{
 "cells": [
  {
   "cell_type": "code",
   "execution_count": 1,
   "metadata": {},
   "outputs": [],
   "source": [
    "import pandas as pd\n",
    "import numpy as np\n",
    "import matplotlib.pyplot as plt\n",
    "#from tensorflow import keras"
   ]
  },
  {
   "cell_type": "code",
   "execution_count": null,
   "metadata": {},
   "outputs": [],
   "source": []
  },
  {
   "cell_type": "code",
   "execution_count": 2,
   "metadata": {},
   "outputs": [],
   "source": [
    "#df=pd.read_csv(\"F:\\college\\college\\sem7\\Project\\MyCode\\project_files\\Data_color_final_change_noise_A.csv\")\n",
    "df=pd.read_csv(\"F:\\college\\college\\sem7\\Project\\MyCode\\project_files\\Data_color_final_change_noise_humanrrrrrrr.csv\")"
   ]
  },
  {
   "cell_type": "code",
   "execution_count": 5,
   "metadata": {},
   "outputs": [
    {
     "data": {
      "text/html": [
       "<div>\n",
       "<style scoped>\n",
       "    .dataframe tbody tr th:only-of-type {\n",
       "        vertical-align: middle;\n",
       "    }\n",
       "\n",
       "    .dataframe tbody tr th {\n",
       "        vertical-align: top;\n",
       "    }\n",
       "\n",
       "    .dataframe thead th {\n",
       "        text-align: right;\n",
       "    }\n",
       "</style>\n",
       "<table border=\"1\" class=\"dataframe\">\n",
       "  <thead>\n",
       "    <tr style=\"text-align: right;\">\n",
       "      <th></th>\n",
       "      <th>0</th>\n",
       "      <th>1</th>\n",
       "      <th>2</th>\n",
       "      <th>3</th>\n",
       "      <th>4</th>\n",
       "      <th>5</th>\n",
       "      <th>6</th>\n",
       "      <th>7</th>\n",
       "      <th>8</th>\n",
       "      <th>9</th>\n",
       "      <th>...</th>\n",
       "      <th>36</th>\n",
       "      <th>37</th>\n",
       "      <th>38</th>\n",
       "      <th>39</th>\n",
       "      <th>40</th>\n",
       "      <th>41</th>\n",
       "      <th>42</th>\n",
       "      <th>Unnamed: 43</th>\n",
       "      <th>Unnamed: 44</th>\n",
       "      <th>Unnamed: 45</th>\n",
       "    </tr>\n",
       "  </thead>\n",
       "  <tbody>\n",
       "    <tr>\n",
       "      <th>0</th>\n",
       "      <td>0</td>\n",
       "      <td>22</td>\n",
       "      <td>36</td>\n",
       "      <td>41</td>\n",
       "      <td>50</td>\n",
       "      <td>19</td>\n",
       "      <td>12</td>\n",
       "      <td>10</td>\n",
       "      <td>11</td>\n",
       "      <td>4</td>\n",
       "      <td>...</td>\n",
       "      <td>-34</td>\n",
       "      <td>-20</td>\n",
       "      <td>-42</td>\n",
       "      <td>-50</td>\n",
       "      <td>-36</td>\n",
       "      <td>-25</td>\n",
       "      <td>a_HN (10).jpg</td>\n",
       "      <td>NaN</td>\n",
       "      <td>NaN</td>\n",
       "      <td>NaN</td>\n",
       "    </tr>\n",
       "    <tr>\n",
       "      <th>1</th>\n",
       "      <td>0</td>\n",
       "      <td>31</td>\n",
       "      <td>51</td>\n",
       "      <td>57</td>\n",
       "      <td>68</td>\n",
       "      <td>29</td>\n",
       "      <td>20</td>\n",
       "      <td>18</td>\n",
       "      <td>20</td>\n",
       "      <td>7</td>\n",
       "      <td>...</td>\n",
       "      <td>-41</td>\n",
       "      <td>-24</td>\n",
       "      <td>-52</td>\n",
       "      <td>-66</td>\n",
       "      <td>-47</td>\n",
       "      <td>-33</td>\n",
       "      <td>a_HN (11).jpg</td>\n",
       "      <td>NaN</td>\n",
       "      <td>NaN</td>\n",
       "      <td>NaN</td>\n",
       "    </tr>\n",
       "    <tr>\n",
       "      <th>2</th>\n",
       "      <td>0</td>\n",
       "      <td>18</td>\n",
       "      <td>29</td>\n",
       "      <td>31</td>\n",
       "      <td>38</td>\n",
       "      <td>16</td>\n",
       "      <td>13</td>\n",
       "      <td>13</td>\n",
       "      <td>14</td>\n",
       "      <td>2</td>\n",
       "      <td>...</td>\n",
       "      <td>-30</td>\n",
       "      <td>-18</td>\n",
       "      <td>-34</td>\n",
       "      <td>-44</td>\n",
       "      <td>-32</td>\n",
       "      <td>-22</td>\n",
       "      <td>a_HN (13).jpg</td>\n",
       "      <td>NaN</td>\n",
       "      <td>NaN</td>\n",
       "      <td>NaN</td>\n",
       "    </tr>\n",
       "    <tr>\n",
       "      <th>3</th>\n",
       "      <td>0</td>\n",
       "      <td>19</td>\n",
       "      <td>32</td>\n",
       "      <td>36</td>\n",
       "      <td>42</td>\n",
       "      <td>20</td>\n",
       "      <td>19</td>\n",
       "      <td>19</td>\n",
       "      <td>18</td>\n",
       "      <td>3</td>\n",
       "      <td>...</td>\n",
       "      <td>-29</td>\n",
       "      <td>-18</td>\n",
       "      <td>-38</td>\n",
       "      <td>-48</td>\n",
       "      <td>-31</td>\n",
       "      <td>-21</td>\n",
       "      <td>a_HN (14).jpg</td>\n",
       "      <td>NaN</td>\n",
       "      <td>NaN</td>\n",
       "      <td>NaN</td>\n",
       "    </tr>\n",
       "    <tr>\n",
       "      <th>4</th>\n",
       "      <td>0</td>\n",
       "      <td>36</td>\n",
       "      <td>68</td>\n",
       "      <td>89</td>\n",
       "      <td>110</td>\n",
       "      <td>40</td>\n",
       "      <td>46</td>\n",
       "      <td>40</td>\n",
       "      <td>35</td>\n",
       "      <td>15</td>\n",
       "      <td>...</td>\n",
       "      <td>-59</td>\n",
       "      <td>-39</td>\n",
       "      <td>-71</td>\n",
       "      <td>-89</td>\n",
       "      <td>-67</td>\n",
       "      <td>-52</td>\n",
       "      <td>a_HN (16).jpg</td>\n",
       "      <td>NaN</td>\n",
       "      <td>NaN</td>\n",
       "      <td>NaN</td>\n",
       "    </tr>\n",
       "    <tr>\n",
       "      <th>...</th>\n",
       "      <td>...</td>\n",
       "      <td>...</td>\n",
       "      <td>...</td>\n",
       "      <td>...</td>\n",
       "      <td>...</td>\n",
       "      <td>...</td>\n",
       "      <td>...</td>\n",
       "      <td>...</td>\n",
       "      <td>...</td>\n",
       "      <td>...</td>\n",
       "      <td>...</td>\n",
       "      <td>...</td>\n",
       "      <td>...</td>\n",
       "      <td>...</td>\n",
       "      <td>...</td>\n",
       "      <td>...</td>\n",
       "      <td>...</td>\n",
       "      <td>...</td>\n",
       "      <td>...</td>\n",
       "      <td>...</td>\n",
       "      <td>...</td>\n",
       "    </tr>\n",
       "    <tr>\n",
       "      <th>443</th>\n",
       "      <td>0</td>\n",
       "      <td>-9</td>\n",
       "      <td>-20</td>\n",
       "      <td>-28</td>\n",
       "      <td>-33</td>\n",
       "      <td>-15</td>\n",
       "      <td>-25</td>\n",
       "      <td>-31</td>\n",
       "      <td>-35</td>\n",
       "      <td>-12</td>\n",
       "      <td>...</td>\n",
       "      <td>9</td>\n",
       "      <td>9</td>\n",
       "      <td>7</td>\n",
       "      <td>12</td>\n",
       "      <td>13</td>\n",
       "      <td>13</td>\n",
       "      <td>j_HN (70).jpg</td>\n",
       "      <td>NaN</td>\n",
       "      <td>NaN</td>\n",
       "      <td>NaN</td>\n",
       "    </tr>\n",
       "    <tr>\n",
       "      <th>444</th>\n",
       "      <td>0</td>\n",
       "      <td>-6</td>\n",
       "      <td>-31</td>\n",
       "      <td>-56</td>\n",
       "      <td>-74</td>\n",
       "      <td>-68</td>\n",
       "      <td>-99</td>\n",
       "      <td>-120</td>\n",
       "      <td>-138</td>\n",
       "      <td>-75</td>\n",
       "      <td>...</td>\n",
       "      <td>-3</td>\n",
       "      <td>-4</td>\n",
       "      <td>2</td>\n",
       "      <td>6</td>\n",
       "      <td>6</td>\n",
       "      <td>4</td>\n",
       "      <td>j_HN (72).jpg</td>\n",
       "      <td>NaN</td>\n",
       "      <td>NaN</td>\n",
       "      <td>NaN</td>\n",
       "    </tr>\n",
       "    <tr>\n",
       "      <th>445</th>\n",
       "      <td>0</td>\n",
       "      <td>0</td>\n",
       "      <td>-14</td>\n",
       "      <td>-31</td>\n",
       "      <td>-42</td>\n",
       "      <td>-46</td>\n",
       "      <td>-70</td>\n",
       "      <td>-86</td>\n",
       "      <td>-100</td>\n",
       "      <td>-50</td>\n",
       "      <td>...</td>\n",
       "      <td>-3</td>\n",
       "      <td>-3</td>\n",
       "      <td>11</td>\n",
       "      <td>9</td>\n",
       "      <td>5</td>\n",
       "      <td>2</td>\n",
       "      <td>j_HN (8).jpg</td>\n",
       "      <td>NaN</td>\n",
       "      <td>NaN</td>\n",
       "      <td>NaN</td>\n",
       "    </tr>\n",
       "    <tr>\n",
       "      <th>446</th>\n",
       "      <td>0</td>\n",
       "      <td>-6</td>\n",
       "      <td>-34</td>\n",
       "      <td>-66</td>\n",
       "      <td>-89</td>\n",
       "      <td>-82</td>\n",
       "      <td>-125</td>\n",
       "      <td>-150</td>\n",
       "      <td>-172</td>\n",
       "      <td>-89</td>\n",
       "      <td>...</td>\n",
       "      <td>-4</td>\n",
       "      <td>-3</td>\n",
       "      <td>16</td>\n",
       "      <td>15</td>\n",
       "      <td>12</td>\n",
       "      <td>9</td>\n",
       "      <td>j_HN (9).jpg</td>\n",
       "      <td>NaN</td>\n",
       "      <td>NaN</td>\n",
       "      <td>NaN</td>\n",
       "    </tr>\n",
       "    <tr>\n",
       "      <th>447</th>\n",
       "      <td>0</td>\n",
       "      <td>-2</td>\n",
       "      <td>-19</td>\n",
       "      <td>-37</td>\n",
       "      <td>-52</td>\n",
       "      <td>-41</td>\n",
       "      <td>-62</td>\n",
       "      <td>-76</td>\n",
       "      <td>-89</td>\n",
       "      <td>-43</td>\n",
       "      <td>...</td>\n",
       "      <td>-1</td>\n",
       "      <td>-6</td>\n",
       "      <td>17</td>\n",
       "      <td>14</td>\n",
       "      <td>7</td>\n",
       "      <td>0</td>\n",
       "      <td>j_HN.jpg</td>\n",
       "      <td>NaN</td>\n",
       "      <td>NaN</td>\n",
       "      <td>NaN</td>\n",
       "    </tr>\n",
       "  </tbody>\n",
       "</table>\n",
       "<p>448 rows × 46 columns</p>\n",
       "</div>"
      ],
      "text/plain": [
       "     0   1   2   3    4   5    6    7    8   9  ...  36  37  38  39  40  41  \\\n",
       "0    0  22  36  41   50  19   12   10   11   4  ... -34 -20 -42 -50 -36 -25   \n",
       "1    0  31  51  57   68  29   20   18   20   7  ... -41 -24 -52 -66 -47 -33   \n",
       "2    0  18  29  31   38  16   13   13   14   2  ... -30 -18 -34 -44 -32 -22   \n",
       "3    0  19  32  36   42  20   19   19   18   3  ... -29 -18 -38 -48 -31 -21   \n",
       "4    0  36  68  89  110  40   46   40   35  15  ... -59 -39 -71 -89 -67 -52   \n",
       "..  ..  ..  ..  ..  ...  ..  ...  ...  ...  ..  ...  ..  ..  ..  ..  ..  ..   \n",
       "443  0  -9 -20 -28  -33 -15  -25  -31  -35 -12  ...   9   9   7  12  13  13   \n",
       "444  0  -6 -31 -56  -74 -68  -99 -120 -138 -75  ...  -3  -4   2   6   6   4   \n",
       "445  0   0 -14 -31  -42 -46  -70  -86 -100 -50  ...  -3  -3  11   9   5   2   \n",
       "446  0  -6 -34 -66  -89 -82 -125 -150 -172 -89  ...  -4  -3  16  15  12   9   \n",
       "447  0  -2 -19 -37  -52 -41  -62  -76  -89 -43  ...  -1  -6  17  14   7   0   \n",
       "\n",
       "                42  Unnamed: 43  Unnamed: 44  Unnamed: 45  \n",
       "0    a_HN (10).jpg          NaN          NaN          NaN  \n",
       "1    a_HN (11).jpg          NaN          NaN          NaN  \n",
       "2    a_HN (13).jpg          NaN          NaN          NaN  \n",
       "3    a_HN (14).jpg          NaN          NaN          NaN  \n",
       "4    a_HN (16).jpg          NaN          NaN          NaN  \n",
       "..             ...          ...          ...          ...  \n",
       "443  j_HN (70).jpg          NaN          NaN          NaN  \n",
       "444  j_HN (72).jpg          NaN          NaN          NaN  \n",
       "445   j_HN (8).jpg          NaN          NaN          NaN  \n",
       "446   j_HN (9).jpg          NaN          NaN          NaN  \n",
       "447       j_HN.jpg          NaN          NaN          NaN  \n",
       "\n",
       "[448 rows x 46 columns]"
      ]
     },
     "execution_count": 5,
     "metadata": {},
     "output_type": "execute_result"
    }
   ],
   "source": [
    "df"
   ]
  },
  {
   "cell_type": "code",
   "execution_count": 6,
   "metadata": {},
   "outputs": [
    {
     "ename": "TypeError",
     "evalue": "'int' object is not subscriptable",
     "output_type": "error",
     "traceback": [
      "\u001b[1;31m---------------------------------------------------------------------------\u001b[0m",
      "\u001b[1;31mTypeError\u001b[0m                                 Traceback (most recent call last)",
      "\u001b[1;32m<ipython-input-6-e36c6aa4e0d5>\u001b[0m in \u001b[0;36m<module>\u001b[1;34m\u001b[0m\n\u001b[0;32m      1\u001b[0m \u001b[0moutput\u001b[0m\u001b[1;33m=\u001b[0m\u001b[0mlist\u001b[0m\u001b[1;33m(\u001b[0m\u001b[0mdf\u001b[0m\u001b[1;33m[\u001b[0m\u001b[1;34m'21'\u001b[0m\u001b[1;33m]\u001b[0m\u001b[1;33m)\u001b[0m\u001b[1;33m\u001b[0m\u001b[1;33m\u001b[0m\u001b[0m\n\u001b[0;32m      2\u001b[0m \u001b[1;32mfor\u001b[0m \u001b[0mi\u001b[0m \u001b[1;32min\u001b[0m \u001b[0mrange\u001b[0m\u001b[1;33m(\u001b[0m\u001b[0mlen\u001b[0m\u001b[1;33m(\u001b[0m\u001b[0moutput\u001b[0m\u001b[1;33m)\u001b[0m\u001b[1;33m)\u001b[0m\u001b[1;33m:\u001b[0m\u001b[1;33m\u001b[0m\u001b[1;33m\u001b[0m\u001b[0m\n\u001b[1;32m----> 3\u001b[1;33m     \u001b[0moutput\u001b[0m\u001b[1;33m[\u001b[0m\u001b[0mi\u001b[0m\u001b[1;33m]\u001b[0m\u001b[1;33m=\u001b[0m\u001b[0moutput\u001b[0m\u001b[1;33m[\u001b[0m\u001b[0mi\u001b[0m\u001b[1;33m]\u001b[0m\u001b[1;33m[\u001b[0m\u001b[1;36m0\u001b[0m\u001b[1;33m:\u001b[0m\u001b[1;36m2\u001b[0m\u001b[1;33m]\u001b[0m\u001b[1;33m\u001b[0m\u001b[1;33m\u001b[0m\u001b[0m\n\u001b[0m\u001b[0;32m      4\u001b[0m \u001b[0mdf\u001b[0m\u001b[1;33m[\u001b[0m\u001b[1;34m'21'\u001b[0m\u001b[1;33m]\u001b[0m\u001b[1;33m=\u001b[0m\u001b[0moutput\u001b[0m\u001b[1;33m\u001b[0m\u001b[1;33m\u001b[0m\u001b[0m\n",
      "\u001b[1;31mTypeError\u001b[0m: 'int' object is not subscriptable"
     ]
    }
   ],
   "source": [
    "output=list(df['21'])\n",
    "for i in range(len(output)):\n",
    "    output[i]=output[i][0:2]\n",
    "df['21']=output  "
   ]
  },
  {
   "cell_type": "code",
   "execution_count": 7,
   "metadata": {},
   "outputs": [],
   "source": [
    "li=list(df['0'])"
   ]
  },
  {
   "cell_type": "code",
   "execution_count": 8,
   "metadata": {},
   "outputs": [
    {
     "data": {
      "text/plain": [
       "0"
      ]
     },
     "execution_count": 8,
     "metadata": {},
     "output_type": "execute_result"
    }
   ],
   "source": [
    "li[0]"
   ]
  },
  {
   "cell_type": "code",
   "execution_count": 9,
   "metadata": {},
   "outputs": [
    {
     "data": {
      "text/plain": [
       "0      0\n",
       "1      0\n",
       "2      0\n",
       "3      0\n",
       "4      0\n",
       "      ..\n",
       "443    0\n",
       "444    0\n",
       "445    0\n",
       "446    0\n",
       "447    0\n",
       "Name: 0, Length: 448, dtype: int64"
      ]
     },
     "execution_count": 9,
     "metadata": {},
     "output_type": "execute_result"
    }
   ],
   "source": [
    "df['0']"
   ]
  },
  {
   "cell_type": "code",
   "execution_count": 10,
   "metadata": {},
   "outputs": [],
   "source": [
    "def NodeX(li):\n",
    "    X00=[]\n",
    "    num=0\n",
    "    for i in range(len(li)):\n",
    "        j=0\n",
    "        val=''\n",
    "        while(num!=2):\n",
    "            \n",
    "            if(li[i][j]==','):\n",
    "                num=num+1\n",
    "                #print(\"Hi\")\n",
    "            elif(num==1):\n",
    "                val=val+li[i][j]\n",
    "                print(val+\"Hi\")\n",
    "            j=j+1\n",
    "            X00.append(val)\n",
    "    return X00"
   ]
  },
  {
   "cell_type": "code",
   "execution_count": 11,
   "metadata": {},
   "outputs": [
    {
     "ename": "TypeError",
     "evalue": "'int' object is not subscriptable",
     "output_type": "error",
     "traceback": [
      "\u001b[1;31m---------------------------------------------------------------------------\u001b[0m",
      "\u001b[1;31mTypeError\u001b[0m                                 Traceback (most recent call last)",
      "\u001b[1;32m<ipython-input-11-8cadbcbaa65d>\u001b[0m in \u001b[0;36m<module>\u001b[1;34m\u001b[0m\n\u001b[1;32m----> 1\u001b[1;33m \u001b[0mNodeX\u001b[0m\u001b[1;33m(\u001b[0m\u001b[0mli\u001b[0m\u001b[1;33m)\u001b[0m\u001b[1;33m\u001b[0m\u001b[1;33m\u001b[0m\u001b[0m\n\u001b[0m",
      "\u001b[1;32m<ipython-input-10-c7eafd6c4fbd>\u001b[0m in \u001b[0;36mNodeX\u001b[1;34m(li)\u001b[0m\n\u001b[0;32m      7\u001b[0m         \u001b[1;32mwhile\u001b[0m\u001b[1;33m(\u001b[0m\u001b[0mnum\u001b[0m\u001b[1;33m!=\u001b[0m\u001b[1;36m2\u001b[0m\u001b[1;33m)\u001b[0m\u001b[1;33m:\u001b[0m\u001b[1;33m\u001b[0m\u001b[1;33m\u001b[0m\u001b[0m\n\u001b[0;32m      8\u001b[0m \u001b[1;33m\u001b[0m\u001b[0m\n\u001b[1;32m----> 9\u001b[1;33m             \u001b[1;32mif\u001b[0m\u001b[1;33m(\u001b[0m\u001b[0mli\u001b[0m\u001b[1;33m[\u001b[0m\u001b[0mi\u001b[0m\u001b[1;33m]\u001b[0m\u001b[1;33m[\u001b[0m\u001b[0mj\u001b[0m\u001b[1;33m]\u001b[0m\u001b[1;33m==\u001b[0m\u001b[1;34m','\u001b[0m\u001b[1;33m)\u001b[0m\u001b[1;33m:\u001b[0m\u001b[1;33m\u001b[0m\u001b[1;33m\u001b[0m\u001b[0m\n\u001b[0m\u001b[0;32m     10\u001b[0m                 \u001b[0mnum\u001b[0m\u001b[1;33m=\u001b[0m\u001b[0mnum\u001b[0m\u001b[1;33m+\u001b[0m\u001b[1;36m1\u001b[0m\u001b[1;33m\u001b[0m\u001b[1;33m\u001b[0m\u001b[0m\n\u001b[0;32m     11\u001b[0m                 \u001b[1;31m#print(\"Hi\")\u001b[0m\u001b[1;33m\u001b[0m\u001b[1;33m\u001b[0m\u001b[1;33m\u001b[0m\u001b[0m\n",
      "\u001b[1;31mTypeError\u001b[0m: 'int' object is not subscriptable"
     ]
    }
   ],
   "source": [
    "NodeX(li)"
   ]
  },
  {
   "cell_type": "code",
   "execution_count": null,
   "metadata": {},
   "outputs": [],
   "source": []
  },
  {
   "cell_type": "code",
   "execution_count": null,
   "metadata": {},
   "outputs": [],
   "source": []
  },
  {
   "cell_type": "code",
   "execution_count": null,
   "metadata": {},
   "outputs": [],
   "source": [
    "##----------------------Calculating the precision, recall and F1_score-------------------------------------------------------##\n",
    "def fun1(cm):\n",
    "    \n",
    "    \n"
   ]
  },
  {
   "cell_type": "code",
   "execution_count": null,
   "metadata": {},
   "outputs": [],
   "source": [
    "\n"
   ]
  },
  {
   "cell_type": "code",
   "execution_count": null,
   "metadata": {},
   "outputs": [],
   "source": []
  },
  {
   "cell_type": "code",
   "execution_count": 9,
   "metadata": {},
   "outputs": [
    {
     "name": "stdout",
     "output_type": "stream",
     "text": [
      " Hi\n",
      " 0Hi\n",
      " Hi\n",
      " 1Hi\n",
      " 11Hi\n",
      " Hi\n",
      " 1Hi\n",
      " 18Hi\n",
      " Hi\n",
      " 1Hi\n",
      " 17Hi\n",
      " Hi\n",
      " 9Hi\n",
      " Hi\n",
      " 7Hi\n",
      " Hi\n",
      " 6Hi\n",
      " Hi\n",
      " 6Hi\n",
      " Hi\n",
      " 4Hi\n",
      " Hi\n",
      " 0Hi\n",
      " Hi\n",
      " 0Hi\n",
      " Hi\n",
      " 0Hi\n",
      " Hi\n",
      " -Hi\n",
      " -1Hi\n",
      " Hi\n",
      " -Hi\n",
      " -5Hi\n",
      " Hi\n",
      " -Hi\n",
      " -5Hi\n",
      " Hi\n",
      " -Hi\n",
      " -5Hi\n",
      " Hi\n",
      " -Hi\n",
      " -4Hi\n",
      " Hi\n",
      " -Hi\n",
      " -1Hi\n",
      " -11Hi\n",
      " Hi\n",
      " -Hi\n",
      " -1Hi\n",
      " -12Hi\n",
      " Hi\n",
      " -Hi\n",
      " -1Hi\n",
      " -11Hi\n",
      " Hi\n",
      " -Hi\n",
      " -1Hi\n",
      " -11Hi\n"
     ]
    }
   ],
   "source": [
    "rows=21\n",
    "cols=2\n",
    "NodeList_X= [[0 for i in range(cols)] for j in range(rows)]\n",
    "for i in range(21):\n",
    "    #print(type(i))\n",
    "    NodeList_X[i]=NodeX(list(df[str(i)]))"
   ]
  },
  {
   "cell_type": "code",
   "execution_count": null,
   "metadata": {},
   "outputs": [],
   "source": []
  },
  {
   "cell_type": "code",
   "execution_count": null,
   "metadata": {},
   "outputs": [],
   "source": []
  },
  {
   "cell_type": "code",
   "execution_count": null,
   "metadata": {},
   "outputs": [],
   "source": []
  },
  {
   "cell_type": "code",
   "execution_count": 247,
   "metadata": {},
   "outputs": [],
   "source": [
    "##----------------------------------------------------Second Approach---------------------------------------------------------##\n",
    "df_second=pd.read_csv(\"F:/college/college/sem7/Project/MyCode/Data_color_final_change.csv\")\n"
   ]
  },
  {
   "cell_type": "code",
   "execution_count": 248,
   "metadata": {},
   "outputs": [],
   "source": [
    "output=list(df_second['Class'])\n",
    "\n",
    "for i in range(len(output)):\n",
    "    output[i]=output[i][0:2]\n",
    "df_second['Class']=output\n",
    "\n"
   ]
  },
  {
   "cell_type": "code",
   "execution_count": 249,
   "metadata": {},
   "outputs": [
    {
     "data": {
      "text/html": [
       "<div>\n",
       "<style scoped>\n",
       "    .dataframe tbody tr th:only-of-type {\n",
       "        vertical-align: middle;\n",
       "    }\n",
       "\n",
       "    .dataframe tbody tr th {\n",
       "        vertical-align: top;\n",
       "    }\n",
       "\n",
       "    .dataframe thead th {\n",
       "        text-align: right;\n",
       "    }\n",
       "</style>\n",
       "<table border=\"1\" class=\"dataframe\">\n",
       "  <thead>\n",
       "    <tr style=\"text-align: right;\">\n",
       "      <th></th>\n",
       "      <th>X-Node</th>\n",
       "      <th>Y-Node</th>\n",
       "      <th>Class</th>\n",
       "    </tr>\n",
       "  </thead>\n",
       "  <tbody>\n",
       "    <tr>\n",
       "      <th>0</th>\n",
       "      <td>[0, 11, 18, 17, 9, 7, 6, 6, 4, 0, 0, 0, -1, -5...</td>\n",
       "      <td>[0, -4, -16, -27, -29, -31, -45, -53, -61, -31...</td>\n",
       "      <td>g1</td>\n",
       "    </tr>\n",
       "    <tr>\n",
       "      <th>1</th>\n",
       "      <td>[0, 14, 20, 19, 12, 8, 5, 3, 1, 0, -2, -4, -6,...</td>\n",
       "      <td>[0, -7, -22, -37, -44, -40, -58, -69, -77, -40...</td>\n",
       "      <td>g1</td>\n",
       "    </tr>\n",
       "    <tr>\n",
       "      <th>2</th>\n",
       "      <td>[0, 13, 21, 22, 17, 12, 11, 11, 10, 4, 4, 4, 3...</td>\n",
       "      <td>[0, -4, -17, -30, -37, -34, -51, -61, -69, -35...</td>\n",
       "      <td>g1</td>\n",
       "    </tr>\n",
       "    <tr>\n",
       "      <th>3</th>\n",
       "      <td>[0, 13, 22, 21, 13, 11, 8, 6, 4, 3, 0, 0, -2, ...</td>\n",
       "      <td>[0, -8, -21, -33, -38, -39, -53, -63, -71, -39...</td>\n",
       "      <td>g1</td>\n",
       "    </tr>\n",
       "    <tr>\n",
       "      <th>4</th>\n",
       "      <td>[0, 6, 10, 10, 6, 3, 4, 5, 4, 0, 0, 0, -1, -5,...</td>\n",
       "      <td>[0, -8, -19, -26, -27, -32, -43, -49, -53, -31...</td>\n",
       "      <td>g1</td>\n",
       "    </tr>\n",
       "    <tr>\n",
       "      <th>...</th>\n",
       "      <td>...</td>\n",
       "      <td>...</td>\n",
       "      <td>...</td>\n",
       "    </tr>\n",
       "    <tr>\n",
       "      <th>215</th>\n",
       "      <td>[0, -5, -13, -23, -31, -4, -16, -25, -31, -7, ...</td>\n",
       "      <td>[0, -5, -11, -15, -18, -26, -29, -27, -23, -25...</td>\n",
       "      <td>g9</td>\n",
       "    </tr>\n",
       "    <tr>\n",
       "      <th>216</th>\n",
       "      <td>[0, -2, -8, -19, -26, -5, -13, -20, -25, -9, -...</td>\n",
       "      <td>[0, -6, -12, -14, -17, -23, -27, -25, -22, -22...</td>\n",
       "      <td>g9</td>\n",
       "    </tr>\n",
       "    <tr>\n",
       "      <th>217</th>\n",
       "      <td>[0, -4, -14, -26, -38, -6, -23, -33, -38, -11,...</td>\n",
       "      <td>[0, -3, -9, -13, -17, -28, -30, -25, -19, -28,...</td>\n",
       "      <td>g9</td>\n",
       "    </tr>\n",
       "    <tr>\n",
       "      <th>218</th>\n",
       "      <td>[0, -5, -13, -23, -31, -3, -13, -23, -32, -5, ...</td>\n",
       "      <td>[0, -5, -11, -16, -19, -25, -27, -26, -23, -24...</td>\n",
       "      <td>g9</td>\n",
       "    </tr>\n",
       "    <tr>\n",
       "      <th>219</th>\n",
       "      <td>[0, -3, -9, -18, -26, -1, -11, -19, -24, -4, -...</td>\n",
       "      <td>[0, -3, -8, -13, -17, -21, -26, -23, -20, -22,...</td>\n",
       "      <td>g9</td>\n",
       "    </tr>\n",
       "  </tbody>\n",
       "</table>\n",
       "<p>220 rows × 3 columns</p>\n",
       "</div>"
      ],
      "text/plain": [
       "                                                X-Node                                             Y-Node Class\n",
       "0    [0, 11, 18, 17, 9, 7, 6, 6, 4, 0, 0, 0, -1, -5...  [0, -4, -16, -27, -29, -31, -45, -53, -61, -31...    g1\n",
       "1    [0, 14, 20, 19, 12, 8, 5, 3, 1, 0, -2, -4, -6,...  [0, -7, -22, -37, -44, -40, -58, -69, -77, -40...    g1\n",
       "2    [0, 13, 21, 22, 17, 12, 11, 11, 10, 4, 4, 4, 3...  [0, -4, -17, -30, -37, -34, -51, -61, -69, -35...    g1\n",
       "3    [0, 13, 22, 21, 13, 11, 8, 6, 4, 3, 0, 0, -2, ...  [0, -8, -21, -33, -38, -39, -53, -63, -71, -39...    g1\n",
       "4    [0, 6, 10, 10, 6, 3, 4, 5, 4, 0, 0, 0, -1, -5,...  [0, -8, -19, -26, -27, -32, -43, -49, -53, -31...    g1\n",
       "..                                                 ...                                                ...   ...\n",
       "215  [0, -5, -13, -23, -31, -4, -16, -25, -31, -7, ...  [0, -5, -11, -15, -18, -26, -29, -27, -23, -25...    g9\n",
       "216  [0, -2, -8, -19, -26, -5, -13, -20, -25, -9, -...  [0, -6, -12, -14, -17, -23, -27, -25, -22, -22...    g9\n",
       "217  [0, -4, -14, -26, -38, -6, -23, -33, -38, -11,...  [0, -3, -9, -13, -17, -28, -30, -25, -19, -28,...    g9\n",
       "218  [0, -5, -13, -23, -31, -3, -13, -23, -32, -5, ...  [0, -5, -11, -16, -19, -25, -27, -26, -23, -24...    g9\n",
       "219  [0, -3, -9, -18, -26, -1, -11, -19, -24, -4, -...  [0, -3, -8, -13, -17, -21, -26, -23, -20, -22,...    g9\n",
       "\n",
       "[220 rows x 3 columns]"
      ]
     },
     "execution_count": 249,
     "metadata": {},
     "output_type": "execute_result"
    }
   ],
   "source": [
    "df_second"
   ]
  },
  {
   "cell_type": "code",
   "execution_count": 275,
   "metadata": {},
   "outputs": [],
   "source": [
    "op=df_second['X-Node']\n",
    "df_second['X-Node']=pd.DataFrame(op)"
   ]
  },
  {
   "cell_type": "code",
   "execution_count": 276,
   "metadata": {},
   "outputs": [
    {
     "data": {
      "text/plain": [
       "0      [0, 11, 18, 17, 9, 7, 6, 6, 4, 0, 0, 0, -1, -5...\n",
       "1      [0, 14, 20, 19, 12, 8, 5, 3, 1, 0, -2, -4, -6,...\n",
       "2      [0, 13, 21, 22, 17, 12, 11, 11, 10, 4, 4, 4, 3...\n",
       "3      [0, 13, 22, 21, 13, 11, 8, 6, 4, 3, 0, 0, -2, ...\n",
       "4      [0, 6, 10, 10, 6, 3, 4, 5, 4, 0, 0, 0, -1, -5,...\n",
       "                             ...                        \n",
       "215    [0, -5, -13, -23, -31, -4, -16, -25, -31, -7, ...\n",
       "216    [0, -2, -8, -19, -26, -5, -13, -20, -25, -9, -...\n",
       "217    [0, -4, -14, -26, -38, -6, -23, -33, -38, -11,...\n",
       "218    [0, -5, -13, -23, -31, -3, -13, -23, -32, -5, ...\n",
       "219    [0, -3, -9, -18, -26, -1, -11, -19, -24, -4, -...\n",
       "Name: X-Node, Length: 220, dtype: object"
      ]
     },
     "execution_count": 276,
     "metadata": {},
     "output_type": "execute_result"
    }
   ],
   "source": [
    "op"
   ]
  },
  {
   "cell_type": "code",
   "execution_count": 309,
   "metadata": {},
   "outputs": [],
   "source": [
    "dat=pd.DataFrame(op[0])"
   ]
  },
  {
   "cell_type": "code",
   "execution_count": null,
   "metadata": {},
   "outputs": [],
   "source": []
  },
  {
   "cell_type": "code",
   "execution_count": 269,
   "metadata": {},
   "outputs": [],
   "source": [
    "A=df_second['X-Node'].to_list()"
   ]
  },
  {
   "cell_type": "code",
   "execution_count": 270,
   "metadata": {},
   "outputs": [
    {
     "data": {
      "text/plain": [
       "'[0, 11, 18, 17, 9, 7, 6, 6, 4, 0, 0, 0, -1, -5, -5, -5, -4, -11, -12, -11, -11]'"
      ]
     },
     "execution_count": 270,
     "metadata": {},
     "output_type": "execute_result"
    }
   ],
   "source": [
    "A[0]"
   ]
  },
  {
   "cell_type": "code",
   "execution_count": 294,
   "metadata": {},
   "outputs": [],
   "source": [
    "df3 = df_second['X-Node'].apply(pd.Series)"
   ]
  },
  {
   "cell_type": "code",
   "execution_count": 295,
   "metadata": {},
   "outputs": [
    {
     "data": {
      "text/html": [
       "<div>\n",
       "<style scoped>\n",
       "    .dataframe tbody tr th:only-of-type {\n",
       "        vertical-align: middle;\n",
       "    }\n",
       "\n",
       "    .dataframe tbody tr th {\n",
       "        vertical-align: top;\n",
       "    }\n",
       "\n",
       "    .dataframe thead th {\n",
       "        text-align: right;\n",
       "    }\n",
       "</style>\n",
       "<table border=\"1\" class=\"dataframe\">\n",
       "  <thead>\n",
       "    <tr style=\"text-align: right;\">\n",
       "      <th></th>\n",
       "      <th>0</th>\n",
       "    </tr>\n",
       "  </thead>\n",
       "  <tbody>\n",
       "    <tr>\n",
       "      <th>0</th>\n",
       "      <td>[0, 11, 18, 17, 9, 7, 6, 6, 4, 0, 0, 0, -1, -5...</td>\n",
       "    </tr>\n",
       "    <tr>\n",
       "      <th>1</th>\n",
       "      <td>[0, 14, 20, 19, 12, 8, 5, 3, 1, 0, -2, -4, -6,...</td>\n",
       "    </tr>\n",
       "    <tr>\n",
       "      <th>2</th>\n",
       "      <td>[0, 13, 21, 22, 17, 12, 11, 11, 10, 4, 4, 4, 3...</td>\n",
       "    </tr>\n",
       "    <tr>\n",
       "      <th>3</th>\n",
       "      <td>[0, 13, 22, 21, 13, 11, 8, 6, 4, 3, 0, 0, -2, ...</td>\n",
       "    </tr>\n",
       "    <tr>\n",
       "      <th>4</th>\n",
       "      <td>[0, 6, 10, 10, 6, 3, 4, 5, 4, 0, 0, 0, -1, -5,...</td>\n",
       "    </tr>\n",
       "    <tr>\n",
       "      <th>...</th>\n",
       "      <td>...</td>\n",
       "    </tr>\n",
       "    <tr>\n",
       "      <th>215</th>\n",
       "      <td>[0, -5, -13, -23, -31, -4, -16, -25, -31, -7, ...</td>\n",
       "    </tr>\n",
       "    <tr>\n",
       "      <th>216</th>\n",
       "      <td>[0, -2, -8, -19, -26, -5, -13, -20, -25, -9, -...</td>\n",
       "    </tr>\n",
       "    <tr>\n",
       "      <th>217</th>\n",
       "      <td>[0, -4, -14, -26, -38, -6, -23, -33, -38, -11,...</td>\n",
       "    </tr>\n",
       "    <tr>\n",
       "      <th>218</th>\n",
       "      <td>[0, -5, -13, -23, -31, -3, -13, -23, -32, -5, ...</td>\n",
       "    </tr>\n",
       "    <tr>\n",
       "      <th>219</th>\n",
       "      <td>[0, -3, -9, -18, -26, -1, -11, -19, -24, -4, -...</td>\n",
       "    </tr>\n",
       "  </tbody>\n",
       "</table>\n",
       "<p>220 rows × 1 columns</p>\n",
       "</div>"
      ],
      "text/plain": [
       "                                                     0\n",
       "0    [0, 11, 18, 17, 9, 7, 6, 6, 4, 0, 0, 0, -1, -5...\n",
       "1    [0, 14, 20, 19, 12, 8, 5, 3, 1, 0, -2, -4, -6,...\n",
       "2    [0, 13, 21, 22, 17, 12, 11, 11, 10, 4, 4, 4, 3...\n",
       "3    [0, 13, 22, 21, 13, 11, 8, 6, 4, 3, 0, 0, -2, ...\n",
       "4    [0, 6, 10, 10, 6, 3, 4, 5, 4, 0, 0, 0, -1, -5,...\n",
       "..                                                 ...\n",
       "215  [0, -5, -13, -23, -31, -4, -16, -25, -31, -7, ...\n",
       "216  [0, -2, -8, -19, -26, -5, -13, -20, -25, -9, -...\n",
       "217  [0, -4, -14, -26, -38, -6, -23, -33, -38, -11,...\n",
       "218  [0, -5, -13, -23, -31, -3, -13, -23, -32, -5, ...\n",
       "219  [0, -3, -9, -18, -26, -1, -11, -19, -24, -4, -...\n",
       "\n",
       "[220 rows x 1 columns]"
      ]
     },
     "execution_count": 295,
     "metadata": {},
     "output_type": "execute_result"
    }
   ],
   "source": [
    "df3"
   ]
  },
  {
   "cell_type": "code",
   "execution_count": null,
   "metadata": {},
   "outputs": [],
   "source": []
  },
  {
   "cell_type": "code",
   "execution_count": null,
   "metadata": {},
   "outputs": [],
   "source": []
  },
  {
   "cell_type": "code",
   "execution_count": null,
   "metadata": {},
   "outputs": [],
   "source": []
  },
  {
   "cell_type": "code",
   "execution_count": 240,
   "metadata": {},
   "outputs": [],
   "source": [
    "#pd.DataFrame(df_second[''].to_list(),columns=[['Node_X_0'], ['Node_X_1'],['Node_X_2'], ['Node_X_3'],\n",
    "                                            #  ['Node_X_4'], ['Node_X_5'],['Node_X_6'], ['Node_X_7'],\n",
    "                                             #   ['Node_X_8'], 'Node_X_9','Node_X_10', 'Node_X_11',\n",
    "                                              #  ['Node_X_12'], 'Node_X_13','Node_X_14', 'Node_X_15',\n",
    "                                            #    ['Node_X_16'], ['Node_X_17'],['Node_X_18'], ['Node_X_19'],\n",
    "                                            #    ['Node_X_20']])"
   ]
  },
  {
   "cell_type": "code",
   "execution_count": 212,
   "metadata": {},
   "outputs": [
    {
     "data": {
      "text/plain": [
       "220"
      ]
     },
     "execution_count": 212,
     "metadata": {},
     "output_type": "execute_result"
    }
   ],
   "source": [
    "\n",
    "len(df_second['0'])"
   ]
  },
  {
   "cell_type": "code",
   "execution_count": 289,
   "metadata": {},
   "outputs": [
    {
     "data": {
      "text/plain": [
       "str"
      ]
     },
     "execution_count": 289,
     "metadata": {},
     "output_type": "execute_result"
    }
   ],
   "source": [
    "d1 = {'teams': [['SF', 'NYG',1],['SF', 'NYG',2],['SF', 'NYG','Ans'],\n",
    "                ['SF', 'NYG',2],['SF', 'NYG'],['SF', 'NYG','Ans'],['SF', 'NYG','Ans']]}\n",
    "df2 = pd.DataFrame(d1)\n",
    "op=df2['teams']\n",
    "type(op[0][0])"
   ]
  },
  {
   "cell_type": "code",
   "execution_count": 290,
   "metadata": {},
   "outputs": [
    {
     "data": {
      "text/plain": [
       "[['SF', 'NYG', 1],\n",
       " ['SF', 'NYG', 2],\n",
       " ['SF', 'NYG', 'Ans'],\n",
       " ['SF', 'NYG', 2],\n",
       " ['SF', 'NYG'],\n",
       " ['SF', 'NYG', 'Ans'],\n",
       " ['SF', 'NYG', 'Ans']]"
      ]
     },
     "execution_count": 290,
     "metadata": {},
     "output_type": "execute_result"
    }
   ],
   "source": [
    "df2[\"teams\"].to_list()"
   ]
  },
  {
   "cell_type": "code",
   "execution_count": 291,
   "metadata": {},
   "outputs": [
    {
     "data": {
      "text/plain": [
       "0      [SF, NYG, 1]\n",
       "1      [SF, NYG, 2]\n",
       "2    [SF, NYG, Ans]\n",
       "3      [SF, NYG, 2]\n",
       "4         [SF, NYG]\n",
       "5    [SF, NYG, Ans]\n",
       "6    [SF, NYG, Ans]\n",
       "Name: teams, dtype: object"
      ]
     },
     "execution_count": 291,
     "metadata": {},
     "output_type": "execute_result"
    }
   ],
   "source": [
    "op"
   ]
  },
  {
   "cell_type": "code",
   "execution_count": 292,
   "metadata": {},
   "outputs": [
    {
     "data": {
      "text/html": [
       "<div>\n",
       "<style scoped>\n",
       "    .dataframe tbody tr th:only-of-type {\n",
       "        vertical-align: middle;\n",
       "    }\n",
       "\n",
       "    .dataframe tbody tr th {\n",
       "        vertical-align: top;\n",
       "    }\n",
       "\n",
       "    .dataframe thead th {\n",
       "        text-align: right;\n",
       "    }\n",
       "</style>\n",
       "<table border=\"1\" class=\"dataframe\">\n",
       "  <thead>\n",
       "    <tr style=\"text-align: right;\">\n",
       "      <th></th>\n",
       "      <th>team1</th>\n",
       "      <th>team2</th>\n",
       "      <th>team3</th>\n",
       "    </tr>\n",
       "  </thead>\n",
       "  <tbody>\n",
       "    <tr>\n",
       "      <th>0</th>\n",
       "      <td>SF</td>\n",
       "      <td>NYG</td>\n",
       "      <td>1</td>\n",
       "    </tr>\n",
       "    <tr>\n",
       "      <th>1</th>\n",
       "      <td>SF</td>\n",
       "      <td>NYG</td>\n",
       "      <td>2</td>\n",
       "    </tr>\n",
       "    <tr>\n",
       "      <th>2</th>\n",
       "      <td>SF</td>\n",
       "      <td>NYG</td>\n",
       "      <td>Ans</td>\n",
       "    </tr>\n",
       "    <tr>\n",
       "      <th>3</th>\n",
       "      <td>SF</td>\n",
       "      <td>NYG</td>\n",
       "      <td>2</td>\n",
       "    </tr>\n",
       "    <tr>\n",
       "      <th>4</th>\n",
       "      <td>SF</td>\n",
       "      <td>NYG</td>\n",
       "      <td>None</td>\n",
       "    </tr>\n",
       "    <tr>\n",
       "      <th>5</th>\n",
       "      <td>SF</td>\n",
       "      <td>NYG</td>\n",
       "      <td>Ans</td>\n",
       "    </tr>\n",
       "    <tr>\n",
       "      <th>6</th>\n",
       "      <td>SF</td>\n",
       "      <td>NYG</td>\n",
       "      <td>Ans</td>\n",
       "    </tr>\n",
       "  </tbody>\n",
       "</table>\n",
       "</div>"
      ],
      "text/plain": [
       "  team1 team2 team3\n",
       "0    SF   NYG     1\n",
       "1    SF   NYG     2\n",
       "2    SF   NYG   Ans\n",
       "3    SF   NYG     2\n",
       "4    SF   NYG  None\n",
       "5    SF   NYG   Ans\n",
       "6    SF   NYG   Ans"
      ]
     },
     "execution_count": 292,
     "metadata": {},
     "output_type": "execute_result"
    }
   ],
   "source": [
    "pd.DataFrame(df2[\"teams\"].to_list(), columns=['team1', 'team2','team3'])"
   ]
  },
  {
   "cell_type": "code",
   "execution_count": 206,
   "metadata": {},
   "outputs": [
    {
     "data": {
      "text/plain": [
       "RangeIndex(start=0, stop=220, step=1)"
      ]
     },
     "execution_count": 206,
     "metadata": {},
     "output_type": "execute_result"
    }
   ],
   "source": [
    "df_second.index"
   ]
  },
  {
   "cell_type": "code",
   "execution_count": 220,
   "metadata": {},
   "outputs": [
    {
     "data": {
      "text/html": [
       "<div>\n",
       "<style scoped>\n",
       "    .dataframe tbody tr th:only-of-type {\n",
       "        vertical-align: middle;\n",
       "    }\n",
       "\n",
       "    .dataframe tbody tr th {\n",
       "        vertical-align: top;\n",
       "    }\n",
       "\n",
       "    .dataframe thead th {\n",
       "        text-align: right;\n",
       "    }\n",
       "</style>\n",
       "<table border=\"1\" class=\"dataframe\">\n",
       "  <thead>\n",
       "    <tr style=\"text-align: right;\">\n",
       "      <th></th>\n",
       "      <th>0</th>\n",
       "      <th>1</th>\n",
       "    </tr>\n",
       "  </thead>\n",
       "  <tbody>\n",
       "    <tr>\n",
       "      <th>0</th>\n",
       "      <td>SF</td>\n",
       "      <td>NYG</td>\n",
       "    </tr>\n",
       "    <tr>\n",
       "      <th>1</th>\n",
       "      <td>SF</td>\n",
       "      <td>NYG</td>\n",
       "    </tr>\n",
       "    <tr>\n",
       "      <th>2</th>\n",
       "      <td>SF</td>\n",
       "      <td>NYG</td>\n",
       "    </tr>\n",
       "    <tr>\n",
       "      <th>3</th>\n",
       "      <td>SF</td>\n",
       "      <td>NYG</td>\n",
       "    </tr>\n",
       "    <tr>\n",
       "      <th>4</th>\n",
       "      <td>SF</td>\n",
       "      <td>NYG</td>\n",
       "    </tr>\n",
       "    <tr>\n",
       "      <th>5</th>\n",
       "      <td>SF</td>\n",
       "      <td>NYG</td>\n",
       "    </tr>\n",
       "    <tr>\n",
       "      <th>6</th>\n",
       "      <td>SF</td>\n",
       "      <td>NYG</td>\n",
       "    </tr>\n",
       "  </tbody>\n",
       "</table>\n",
       "</div>"
      ],
      "text/plain": [
       "    0    1\n",
       "0  SF  NYG\n",
       "1  SF  NYG\n",
       "2  SF  NYG\n",
       "3  SF  NYG\n",
       "4  SF  NYG\n",
       "5  SF  NYG\n",
       "6  SF  NYG"
      ]
     },
     "execution_count": 220,
     "metadata": {},
     "output_type": "execute_result"
    }
   ],
   "source": [
    "pd.DataFrame(df2['teams'].tolist(), index= df2.index)\n",
    "#print (df2)"
   ]
  },
  {
   "cell_type": "code",
   "execution_count": null,
   "metadata": {},
   "outputs": [],
   "source": []
  },
  {
   "cell_type": "code",
   "execution_count": 200,
   "metadata": {},
   "outputs": [
    {
     "data": {
      "text/plain": [
       "RangeIndex(start=0, stop=7, step=1)"
      ]
     },
     "execution_count": 200,
     "metadata": {},
     "output_type": "execute_result"
    }
   ],
   "source": [
    "df2.index"
   ]
  },
  {
   "cell_type": "code",
   "execution_count": null,
   "metadata": {},
   "outputs": [],
   "source": []
  },
  {
   "cell_type": "code",
   "execution_count": null,
   "metadata": {},
   "outputs": [],
   "source": []
  },
  {
   "cell_type": "code",
   "execution_count": null,
   "metadata": {},
   "outputs": [],
   "source": []
  },
  {
   "cell_type": "code",
   "execution_count": null,
   "metadata": {},
   "outputs": [],
   "source": []
  },
  {
   "cell_type": "code",
   "execution_count": null,
   "metadata": {},
   "outputs": [],
   "source": []
  },
  {
   "cell_type": "code",
   "execution_count": null,
   "metadata": {},
   "outputs": [],
   "source": []
  },
  {
   "cell_type": "code",
   "execution_count": 297,
   "metadata": {},
   "outputs": [],
   "source": [
    "df = pd.DataFrame([range(43)], columns = ['Node_X_0', 'Node_X_1','Node_X_2', 'Node_X_3',\n",
    "                                                'Node_X_4', 'Node_X_5','Node_X_6', 'Node_X_7',\n",
    "                                                'Node_X_8', 'Node_X_9','Node_X_10', 'Node_X_11',\n",
    "                                                'Node_X_12', 'Node_X_13','Node_X_14', 'Node_X_15',\n",
    "                                                'Node_X_16', 'Node_X_17','Node_X_18', 'Node_X_19',\n",
    "                                                'Node_X_20','Node_Y_0', 'Node_Y_1','Node_Y_2', 'Node_Y_3',\n",
    "                                                'Node_Y_4', 'Node_Y_5','Node_Y_6', 'Node_Y_7',\n",
    "                                                'Node_Y_8', 'Node_Y_9','Node_Y_10', 'Node_Y_11',\n",
    "                                                'Node_Y_12', 'Node_Y_13','Node_Y_14', 'Node_Y_15',\n",
    "                                                'Node_Y_16', 'Node_Y_17','Node_Y_18', 'Node_Y_19',\n",
    "                                                'Node_Y_20','Class'])"
   ]
  },
  {
   "cell_type": "code",
   "execution_count": 307,
   "metadata": {},
   "outputs": [
    {
     "ename": "TypeError",
     "evalue": "'type' object is not subscriptable",
     "output_type": "error",
     "traceback": [
      "\u001b[1;31m---------------------------------------------------------------------------\u001b[0m",
      "\u001b[1;31mTypeError\u001b[0m                                 Traceback (most recent call last)",
      "\u001b[1;32m<ipython-input-307-9898c320a94d>\u001b[0m in \u001b[0;36m<module>\u001b[1;34m\u001b[0m\n\u001b[1;32m----> 1\u001b[1;33m \u001b[0mlis\u001b[0m\u001b[1;33m=\u001b[0m\u001b[0mlist\u001b[0m\u001b[1;33m[\u001b[0m\u001b[1;33m[\u001b[0m\u001b[1;36m0\u001b[0m\u001b[1;33m,\u001b[0m\u001b[1;36m1\u001b[0m\u001b[1;33m,\u001b[0m\u001b[1;36m2\u001b[0m\u001b[1;33m]\u001b[0m\u001b[1;33m,\u001b[0m\u001b[1;33m[\u001b[0m\u001b[1;36m1\u001b[0m\u001b[1;33m,\u001b[0m\u001b[1;36m2\u001b[0m\u001b[1;33m,\u001b[0m\u001b[1;36m3\u001b[0m\u001b[1;33m]\u001b[0m\u001b[1;33m,\u001b[0m\u001b[1;36m2\u001b[0m\u001b[1;33m]\u001b[0m\u001b[1;33m\u001b[0m\u001b[1;33m\u001b[0m\u001b[0m\n\u001b[0m",
      "\u001b[1;31mTypeError\u001b[0m: 'type' object is not subscriptable"
     ]
    }
   ],
   "source": [
    "lis=list[[0,1,2],[1,2,3],2]"
   ]
  },
  {
   "cell_type": "code",
   "execution_count": 308,
   "metadata": {},
   "outputs": [
    {
     "data": {
      "text/plain": [
       "[[range(0, 21)], [range(0, 21)], [2]]"
      ]
     },
     "execution_count": 308,
     "metadata": {},
     "output_type": "execute_result"
    }
   ],
   "source": [
    "lis"
   ]
  },
  {
   "cell_type": "code",
   "execution_count": null,
   "metadata": {},
   "outputs": [],
   "source": []
  },
  {
   "cell_type": "code",
   "execution_count": null,
   "metadata": {},
   "outputs": [],
   "source": []
  },
  {
   "cell_type": "code",
   "execution_count": null,
   "metadata": {},
   "outputs": [],
   "source": []
  },
  {
   "cell_type": "code",
   "execution_count": null,
   "metadata": {},
   "outputs": [],
   "source": []
  },
  {
   "cell_type": "code",
   "execution_count": null,
   "metadata": {},
   "outputs": [],
   "source": []
  },
  {
   "cell_type": "code",
   "execution_count": 38,
   "metadata": {},
   "outputs": [
    {
     "data": {
      "text/html": [
       "<div>\n",
       "<style scoped>\n",
       "    .dataframe tbody tr th:only-of-type {\n",
       "        vertical-align: middle;\n",
       "    }\n",
       "\n",
       "    .dataframe tbody tr th {\n",
       "        vertical-align: top;\n",
       "    }\n",
       "\n",
       "    .dataframe thead th {\n",
       "        text-align: right;\n",
       "    }\n",
       "</style>\n",
       "<table border=\"1\" class=\"dataframe\">\n",
       "  <thead>\n",
       "    <tr style=\"text-align: right;\">\n",
       "      <th></th>\n",
       "      <th>0</th>\n",
       "      <th>1</th>\n",
       "      <th>2</th>\n",
       "      <th>3</th>\n",
       "      <th>4</th>\n",
       "      <th>5</th>\n",
       "      <th>6</th>\n",
       "      <th>7</th>\n",
       "      <th>8</th>\n",
       "      <th>9</th>\n",
       "      <th>...</th>\n",
       "      <th>33</th>\n",
       "      <th>34</th>\n",
       "      <th>35</th>\n",
       "      <th>36</th>\n",
       "      <th>37</th>\n",
       "      <th>38</th>\n",
       "      <th>39</th>\n",
       "      <th>40</th>\n",
       "      <th>41</th>\n",
       "      <th>42</th>\n",
       "    </tr>\n",
       "  </thead>\n",
       "  <tbody>\n",
       "    <tr>\n",
       "      <th>0</th>\n",
       "      <td>0</td>\n",
       "      <td>23</td>\n",
       "      <td>36</td>\n",
       "      <td>38</td>\n",
       "      <td>36</td>\n",
       "      <td>15</td>\n",
       "      <td>21</td>\n",
       "      <td>24</td>\n",
       "      <td>24</td>\n",
       "      <td>-2</td>\n",
       "      <td>...</td>\n",
       "      <td>-31</td>\n",
       "      <td>-59</td>\n",
       "      <td>-66</td>\n",
       "      <td>-39</td>\n",
       "      <td>-21</td>\n",
       "      <td>-49</td>\n",
       "      <td>-57</td>\n",
       "      <td>-38</td>\n",
       "      <td>-24</td>\n",
       "      <td>A</td>\n",
       "    </tr>\n",
       "    <tr>\n",
       "      <th>1</th>\n",
       "      <td>0</td>\n",
       "      <td>23</td>\n",
       "      <td>37</td>\n",
       "      <td>38</td>\n",
       "      <td>35</td>\n",
       "      <td>14</td>\n",
       "      <td>21</td>\n",
       "      <td>24</td>\n",
       "      <td>25</td>\n",
       "      <td>-3</td>\n",
       "      <td>...</td>\n",
       "      <td>-33</td>\n",
       "      <td>-63</td>\n",
       "      <td>-68</td>\n",
       "      <td>-41</td>\n",
       "      <td>-23</td>\n",
       "      <td>-52</td>\n",
       "      <td>-59</td>\n",
       "      <td>-40</td>\n",
       "      <td>-26</td>\n",
       "      <td>A</td>\n",
       "    </tr>\n",
       "    <tr>\n",
       "      <th>2</th>\n",
       "      <td>0</td>\n",
       "      <td>23</td>\n",
       "      <td>38</td>\n",
       "      <td>41</td>\n",
       "      <td>36</td>\n",
       "      <td>15</td>\n",
       "      <td>22</td>\n",
       "      <td>25</td>\n",
       "      <td>25</td>\n",
       "      <td>-2</td>\n",
       "      <td>...</td>\n",
       "      <td>-33</td>\n",
       "      <td>-62</td>\n",
       "      <td>-69</td>\n",
       "      <td>-42</td>\n",
       "      <td>-24</td>\n",
       "      <td>-51</td>\n",
       "      <td>-59</td>\n",
       "      <td>-41</td>\n",
       "      <td>-28</td>\n",
       "      <td>A</td>\n",
       "    </tr>\n",
       "    <tr>\n",
       "      <th>3</th>\n",
       "      <td>0</td>\n",
       "      <td>24</td>\n",
       "      <td>40</td>\n",
       "      <td>43</td>\n",
       "      <td>39</td>\n",
       "      <td>17</td>\n",
       "      <td>23</td>\n",
       "      <td>25</td>\n",
       "      <td>25</td>\n",
       "      <td>0</td>\n",
       "      <td>...</td>\n",
       "      <td>-34</td>\n",
       "      <td>-63</td>\n",
       "      <td>-70</td>\n",
       "      <td>-44</td>\n",
       "      <td>-25</td>\n",
       "      <td>-53</td>\n",
       "      <td>-62</td>\n",
       "      <td>-43</td>\n",
       "      <td>-29</td>\n",
       "      <td>A</td>\n",
       "    </tr>\n",
       "    <tr>\n",
       "      <th>4</th>\n",
       "      <td>0</td>\n",
       "      <td>24</td>\n",
       "      <td>41</td>\n",
       "      <td>44</td>\n",
       "      <td>41</td>\n",
       "      <td>19</td>\n",
       "      <td>25</td>\n",
       "      <td>26</td>\n",
       "      <td>26</td>\n",
       "      <td>1</td>\n",
       "      <td>...</td>\n",
       "      <td>-33</td>\n",
       "      <td>-62</td>\n",
       "      <td>-69</td>\n",
       "      <td>-43</td>\n",
       "      <td>-25</td>\n",
       "      <td>-53</td>\n",
       "      <td>-61</td>\n",
       "      <td>-43</td>\n",
       "      <td>-29</td>\n",
       "      <td>A</td>\n",
       "    </tr>\n",
       "    <tr>\n",
       "      <th>...</th>\n",
       "      <td>...</td>\n",
       "      <td>...</td>\n",
       "      <td>...</td>\n",
       "      <td>...</td>\n",
       "      <td>...</td>\n",
       "      <td>...</td>\n",
       "      <td>...</td>\n",
       "      <td>...</td>\n",
       "      <td>...</td>\n",
       "      <td>...</td>\n",
       "      <td>...</td>\n",
       "      <td>...</td>\n",
       "      <td>...</td>\n",
       "      <td>...</td>\n",
       "      <td>...</td>\n",
       "      <td>...</td>\n",
       "      <td>...</td>\n",
       "      <td>...</td>\n",
       "      <td>...</td>\n",
       "      <td>...</td>\n",
       "      <td>...</td>\n",
       "    </tr>\n",
       "    <tr>\n",
       "      <th>1965</th>\n",
       "      <td>0</td>\n",
       "      <td>27</td>\n",
       "      <td>49</td>\n",
       "      <td>51</td>\n",
       "      <td>37</td>\n",
       "      <td>55</td>\n",
       "      <td>73</td>\n",
       "      <td>82</td>\n",
       "      <td>90</td>\n",
       "      <td>42</td>\n",
       "      <td>...</td>\n",
       "      <td>-33</td>\n",
       "      <td>-48</td>\n",
       "      <td>-59</td>\n",
       "      <td>-44</td>\n",
       "      <td>-30</td>\n",
       "      <td>-49</td>\n",
       "      <td>-60</td>\n",
       "      <td>-49</td>\n",
       "      <td>-38</td>\n",
       "      <td>Z</td>\n",
       "    </tr>\n",
       "    <tr>\n",
       "      <th>1966</th>\n",
       "      <td>0</td>\n",
       "      <td>26</td>\n",
       "      <td>48</td>\n",
       "      <td>50</td>\n",
       "      <td>38</td>\n",
       "      <td>56</td>\n",
       "      <td>72</td>\n",
       "      <td>82</td>\n",
       "      <td>90</td>\n",
       "      <td>42</td>\n",
       "      <td>...</td>\n",
       "      <td>-33</td>\n",
       "      <td>-46</td>\n",
       "      <td>-58</td>\n",
       "      <td>-43</td>\n",
       "      <td>-30</td>\n",
       "      <td>-47</td>\n",
       "      <td>-57</td>\n",
       "      <td>-46</td>\n",
       "      <td>-35</td>\n",
       "      <td>Z</td>\n",
       "    </tr>\n",
       "    <tr>\n",
       "      <th>1967</th>\n",
       "      <td>0</td>\n",
       "      <td>26</td>\n",
       "      <td>46</td>\n",
       "      <td>49</td>\n",
       "      <td>38</td>\n",
       "      <td>53</td>\n",
       "      <td>69</td>\n",
       "      <td>79</td>\n",
       "      <td>86</td>\n",
       "      <td>40</td>\n",
       "      <td>...</td>\n",
       "      <td>-33</td>\n",
       "      <td>-46</td>\n",
       "      <td>-58</td>\n",
       "      <td>-43</td>\n",
       "      <td>-29</td>\n",
       "      <td>-48</td>\n",
       "      <td>-58</td>\n",
       "      <td>-49</td>\n",
       "      <td>-37</td>\n",
       "      <td>Z</td>\n",
       "    </tr>\n",
       "    <tr>\n",
       "      <th>1968</th>\n",
       "      <td>0</td>\n",
       "      <td>24</td>\n",
       "      <td>46</td>\n",
       "      <td>48</td>\n",
       "      <td>36</td>\n",
       "      <td>53</td>\n",
       "      <td>69</td>\n",
       "      <td>78</td>\n",
       "      <td>86</td>\n",
       "      <td>40</td>\n",
       "      <td>...</td>\n",
       "      <td>-31</td>\n",
       "      <td>-44</td>\n",
       "      <td>-55</td>\n",
       "      <td>-40</td>\n",
       "      <td>-27</td>\n",
       "      <td>-45</td>\n",
       "      <td>-55</td>\n",
       "      <td>-45</td>\n",
       "      <td>-34</td>\n",
       "      <td>Z</td>\n",
       "    </tr>\n",
       "    <tr>\n",
       "      <th>1969</th>\n",
       "      <td>0</td>\n",
       "      <td>25</td>\n",
       "      <td>46</td>\n",
       "      <td>47</td>\n",
       "      <td>33</td>\n",
       "      <td>53</td>\n",
       "      <td>69</td>\n",
       "      <td>79</td>\n",
       "      <td>86</td>\n",
       "      <td>40</td>\n",
       "      <td>...</td>\n",
       "      <td>-30</td>\n",
       "      <td>-43</td>\n",
       "      <td>-54</td>\n",
       "      <td>-39</td>\n",
       "      <td>-27</td>\n",
       "      <td>-44</td>\n",
       "      <td>-51</td>\n",
       "      <td>-41</td>\n",
       "      <td>-31</td>\n",
       "      <td>Z</td>\n",
       "    </tr>\n",
       "  </tbody>\n",
       "</table>\n",
       "<p>1970 rows × 43 columns</p>\n",
       "</div>"
      ],
      "text/plain": [
       "      0   1   2   3   4   5   6   7   8   9  ...  33  34  35  36  37  38  39  \\\n",
       "0     0  23  36  38  36  15  21  24  24  -2  ... -31 -59 -66 -39 -21 -49 -57   \n",
       "1     0  23  37  38  35  14  21  24  25  -3  ... -33 -63 -68 -41 -23 -52 -59   \n",
       "2     0  23  38  41  36  15  22  25  25  -2  ... -33 -62 -69 -42 -24 -51 -59   \n",
       "3     0  24  40  43  39  17  23  25  25   0  ... -34 -63 -70 -44 -25 -53 -62   \n",
       "4     0  24  41  44  41  19  25  26  26   1  ... -33 -62 -69 -43 -25 -53 -61   \n",
       "...  ..  ..  ..  ..  ..  ..  ..  ..  ..  ..  ...  ..  ..  ..  ..  ..  ..  ..   \n",
       "1965  0  27  49  51  37  55  73  82  90  42  ... -33 -48 -59 -44 -30 -49 -60   \n",
       "1966  0  26  48  50  38  56  72  82  90  42  ... -33 -46 -58 -43 -30 -47 -57   \n",
       "1967  0  26  46  49  38  53  69  79  86  40  ... -33 -46 -58 -43 -29 -48 -58   \n",
       "1968  0  24  46  48  36  53  69  78  86  40  ... -31 -44 -55 -40 -27 -45 -55   \n",
       "1969  0  25  46  47  33  53  69  79  86  40  ... -30 -43 -54 -39 -27 -44 -51   \n",
       "\n",
       "      40  41  42  \n",
       "0    -38 -24   A  \n",
       "1    -40 -26   A  \n",
       "2    -41 -28   A  \n",
       "3    -43 -29   A  \n",
       "4    -43 -29   A  \n",
       "...   ..  ..  ..  \n",
       "1965 -49 -38   Z  \n",
       "1966 -46 -35   Z  \n",
       "1967 -49 -37   Z  \n",
       "1968 -45 -34   Z  \n",
       "1969 -41 -31   Z  \n",
       "\n",
       "[1970 rows x 43 columns]"
      ]
     },
     "execution_count": 38,
     "metadata": {},
     "output_type": "execute_result"
    }
   ],
   "source": [
    "df_second3"
   ]
  },
  {
   "cell_type": "code",
   "execution_count": 2,
   "metadata": {},
   "outputs": [],
   "source": [
    "##----------------------------------------------------Third Approach---------------------------------------------------------##\n",
    "df_second1=pd.read_csv(\"F:/college/college/sem7/Project/MyCode/Data_color_final_change_noise.csv\")\n",
    "df_second2=pd.read_csv(\"F:/college/college/sem7/Project/MyCode/Data_color_final_change_noise_human.csv\")\n",
    "df_second3=pd.read_csv(\"F:\\college\\college\\sem7\\Project\\MyCode\\project_files\\Data_color_final_change_noise_A.csv\")\n",
    "output1=list(df_second1['42'])\n",
    "output2=list(df_second2['42'])\n",
    "output3=list(df_second3['42'])\n",
    "for i in range(len(output1)):\n",
    "    output1[i]=output1[i][0:1]\n",
    "for i in range(len(output2)):\n",
    "    output2[i]=output2[i][0:1]\n",
    "for i in range(len(output3)):\n",
    "    output3[i]=output3[i][0:1]\n",
    "\n",
    "df_second1['42']=output1\n",
    "df_second2['42']=output2\n",
    "df_second3['42']=output3"
   ]
  },
  {
   "cell_type": "code",
   "execution_count": null,
   "metadata": {},
   "outputs": [],
   "source": []
  },
  {
   "cell_type": "code",
   "execution_count": null,
   "metadata": {},
   "outputs": [],
   "source": []
  },
  {
   "cell_type": "code",
   "execution_count": 3,
   "metadata": {},
   "outputs": [],
   "source": [
    "df_second1=df_second1.set_axis( ['Node_X_0', 'Node_X_1','Node_X_2', 'Node_X_3',\n",
    "                                                'Node_X_4', 'Node_X_5','Node_X_6', 'Node_X_7',\n",
    "                                                'Node_X_8', 'Node_X_9','Node_X_10', 'Node_X_11',\n",
    "                                                'Node_X_12', 'Node_X_13','Node_X_14', 'Node_X_15',\n",
    "                                                'Node_X_16', 'Node_X_17','Node_X_18', 'Node_X_19',\n",
    "                                                'Node_X_20','Node_Y_0', 'Node_Y_1','Node_Y_2', 'Node_Y_3',\n",
    "                                                'Node_Y_4', 'Node_Y_5','Node_Y_6', 'Node_Y_7',\n",
    "                                                'Node_Y_8', 'Node_Y_9','Node_Y_10', 'Node_Y_11',\n",
    "                                                'Node_Y_12', 'Node_Y_13','Node_Y_14', 'Node_Y_15',\n",
    "                                                'Node_Y_16', 'Node_Y_17','Node_Y_18', 'Node_Y_19',\n",
    "                                                'Node_Y_20','Class'],axis='columns')\n",
    "df_second2=df_second2.set_axis( ['Node_X_0', 'Node_X_1','Node_X_2', 'Node_X_3',\n",
    "                                                'Node_X_4', 'Node_X_5','Node_X_6', 'Node_X_7',\n",
    "                                                'Node_X_8', 'Node_X_9','Node_X_10', 'Node_X_11',\n",
    "                                                'Node_X_12', 'Node_X_13','Node_X_14', 'Node_X_15',\n",
    "                                                'Node_X_16', 'Node_X_17','Node_X_18', 'Node_X_19',\n",
    "                                                'Node_X_20','Node_Y_0', 'Node_Y_1','Node_Y_2', 'Node_Y_3',\n",
    "                                                'Node_Y_4', 'Node_Y_5','Node_Y_6', 'Node_Y_7',\n",
    "                                                'Node_Y_8', 'Node_Y_9','Node_Y_10', 'Node_Y_11',\n",
    "                                                'Node_Y_12', 'Node_Y_13','Node_Y_14', 'Node_Y_15',\n",
    "                                                'Node_Y_16', 'Node_Y_17','Node_Y_18', 'Node_Y_19',\n",
    "                                                'Node_Y_20','Class'],axis='columns')\n",
    "df_second3=df_second3.set_axis( ['Node_X_0', 'Node_X_1','Node_X_2', 'Node_X_3',\n",
    "                                                'Node_X_4', 'Node_X_5','Node_X_6', 'Node_X_7',\n",
    "                                                'Node_X_8', 'Node_X_9','Node_X_10', 'Node_X_11',\n",
    "                                                'Node_X_12', 'Node_X_13','Node_X_14', 'Node_X_15',\n",
    "                                                'Node_X_16', 'Node_X_17','Node_X_18', 'Node_X_19',\n",
    "                                                'Node_X_20','Node_Y_0', 'Node_Y_1','Node_Y_2', 'Node_Y_3',\n",
    "                                                'Node_Y_4', 'Node_Y_5','Node_Y_6', 'Node_Y_7',\n",
    "                                                'Node_Y_8', 'Node_Y_9','Node_Y_10', 'Node_Y_11',\n",
    "                                                'Node_Y_12', 'Node_Y_13','Node_Y_14', 'Node_Y_15',\n",
    "                                                'Node_Y_16', 'Node_Y_17','Node_Y_18', 'Node_Y_19',\n",
    "                                                'Node_Y_20','Class'],axis='columns')"
   ]
  },
  {
   "cell_type": "code",
   "execution_count": null,
   "metadata": {},
   "outputs": [],
   "source": []
  },
  {
   "cell_type": "code",
   "execution_count": 4,
   "metadata": {},
   "outputs": [
    {
     "data": {
      "text/html": [
       "<div>\n",
       "<style scoped>\n",
       "    .dataframe tbody tr th:only-of-type {\n",
       "        vertical-align: middle;\n",
       "    }\n",
       "\n",
       "    .dataframe tbody tr th {\n",
       "        vertical-align: top;\n",
       "    }\n",
       "\n",
       "    .dataframe thead th {\n",
       "        text-align: right;\n",
       "    }\n",
       "</style>\n",
       "<table border=\"1\" class=\"dataframe\">\n",
       "  <thead>\n",
       "    <tr style=\"text-align: right;\">\n",
       "      <th></th>\n",
       "      <th>Node_X_0</th>\n",
       "      <th>Node_X_1</th>\n",
       "      <th>Node_X_2</th>\n",
       "      <th>Node_X_3</th>\n",
       "      <th>Node_X_4</th>\n",
       "      <th>Node_X_5</th>\n",
       "      <th>Node_X_6</th>\n",
       "      <th>Node_X_7</th>\n",
       "      <th>Node_X_8</th>\n",
       "      <th>Node_X_9</th>\n",
       "      <th>...</th>\n",
       "      <th>Node_Y_12</th>\n",
       "      <th>Node_Y_13</th>\n",
       "      <th>Node_Y_14</th>\n",
       "      <th>Node_Y_15</th>\n",
       "      <th>Node_Y_16</th>\n",
       "      <th>Node_Y_17</th>\n",
       "      <th>Node_Y_18</th>\n",
       "      <th>Node_Y_19</th>\n",
       "      <th>Node_Y_20</th>\n",
       "      <th>Class</th>\n",
       "    </tr>\n",
       "  </thead>\n",
       "  <tbody>\n",
       "    <tr>\n",
       "      <th>0</th>\n",
       "      <td>0</td>\n",
       "      <td>23</td>\n",
       "      <td>36</td>\n",
       "      <td>38</td>\n",
       "      <td>36</td>\n",
       "      <td>15</td>\n",
       "      <td>21</td>\n",
       "      <td>24</td>\n",
       "      <td>24</td>\n",
       "      <td>-2</td>\n",
       "      <td>...</td>\n",
       "      <td>-31</td>\n",
       "      <td>-59</td>\n",
       "      <td>-66</td>\n",
       "      <td>-39</td>\n",
       "      <td>-21</td>\n",
       "      <td>-49</td>\n",
       "      <td>-57</td>\n",
       "      <td>-38</td>\n",
       "      <td>-24</td>\n",
       "      <td>A</td>\n",
       "    </tr>\n",
       "    <tr>\n",
       "      <th>1</th>\n",
       "      <td>0</td>\n",
       "      <td>23</td>\n",
       "      <td>37</td>\n",
       "      <td>38</td>\n",
       "      <td>35</td>\n",
       "      <td>14</td>\n",
       "      <td>21</td>\n",
       "      <td>24</td>\n",
       "      <td>25</td>\n",
       "      <td>-3</td>\n",
       "      <td>...</td>\n",
       "      <td>-33</td>\n",
       "      <td>-63</td>\n",
       "      <td>-68</td>\n",
       "      <td>-41</td>\n",
       "      <td>-23</td>\n",
       "      <td>-52</td>\n",
       "      <td>-59</td>\n",
       "      <td>-40</td>\n",
       "      <td>-26</td>\n",
       "      <td>A</td>\n",
       "    </tr>\n",
       "    <tr>\n",
       "      <th>2</th>\n",
       "      <td>0</td>\n",
       "      <td>23</td>\n",
       "      <td>38</td>\n",
       "      <td>41</td>\n",
       "      <td>36</td>\n",
       "      <td>15</td>\n",
       "      <td>22</td>\n",
       "      <td>25</td>\n",
       "      <td>25</td>\n",
       "      <td>-2</td>\n",
       "      <td>...</td>\n",
       "      <td>-33</td>\n",
       "      <td>-62</td>\n",
       "      <td>-69</td>\n",
       "      <td>-42</td>\n",
       "      <td>-24</td>\n",
       "      <td>-51</td>\n",
       "      <td>-59</td>\n",
       "      <td>-41</td>\n",
       "      <td>-28</td>\n",
       "      <td>A</td>\n",
       "    </tr>\n",
       "    <tr>\n",
       "      <th>3</th>\n",
       "      <td>0</td>\n",
       "      <td>24</td>\n",
       "      <td>40</td>\n",
       "      <td>43</td>\n",
       "      <td>39</td>\n",
       "      <td>17</td>\n",
       "      <td>23</td>\n",
       "      <td>25</td>\n",
       "      <td>25</td>\n",
       "      <td>0</td>\n",
       "      <td>...</td>\n",
       "      <td>-34</td>\n",
       "      <td>-63</td>\n",
       "      <td>-70</td>\n",
       "      <td>-44</td>\n",
       "      <td>-25</td>\n",
       "      <td>-53</td>\n",
       "      <td>-62</td>\n",
       "      <td>-43</td>\n",
       "      <td>-29</td>\n",
       "      <td>A</td>\n",
       "    </tr>\n",
       "    <tr>\n",
       "      <th>4</th>\n",
       "      <td>0</td>\n",
       "      <td>24</td>\n",
       "      <td>41</td>\n",
       "      <td>44</td>\n",
       "      <td>41</td>\n",
       "      <td>19</td>\n",
       "      <td>25</td>\n",
       "      <td>26</td>\n",
       "      <td>26</td>\n",
       "      <td>1</td>\n",
       "      <td>...</td>\n",
       "      <td>-33</td>\n",
       "      <td>-62</td>\n",
       "      <td>-69</td>\n",
       "      <td>-43</td>\n",
       "      <td>-25</td>\n",
       "      <td>-53</td>\n",
       "      <td>-61</td>\n",
       "      <td>-43</td>\n",
       "      <td>-29</td>\n",
       "      <td>A</td>\n",
       "    </tr>\n",
       "    <tr>\n",
       "      <th>...</th>\n",
       "      <td>...</td>\n",
       "      <td>...</td>\n",
       "      <td>...</td>\n",
       "      <td>...</td>\n",
       "      <td>...</td>\n",
       "      <td>...</td>\n",
       "      <td>...</td>\n",
       "      <td>...</td>\n",
       "      <td>...</td>\n",
       "      <td>...</td>\n",
       "      <td>...</td>\n",
       "      <td>...</td>\n",
       "      <td>...</td>\n",
       "      <td>...</td>\n",
       "      <td>...</td>\n",
       "      <td>...</td>\n",
       "      <td>...</td>\n",
       "      <td>...</td>\n",
       "      <td>...</td>\n",
       "      <td>...</td>\n",
       "      <td>...</td>\n",
       "    </tr>\n",
       "    <tr>\n",
       "      <th>1965</th>\n",
       "      <td>0</td>\n",
       "      <td>27</td>\n",
       "      <td>49</td>\n",
       "      <td>51</td>\n",
       "      <td>37</td>\n",
       "      <td>55</td>\n",
       "      <td>73</td>\n",
       "      <td>82</td>\n",
       "      <td>90</td>\n",
       "      <td>42</td>\n",
       "      <td>...</td>\n",
       "      <td>-33</td>\n",
       "      <td>-48</td>\n",
       "      <td>-59</td>\n",
       "      <td>-44</td>\n",
       "      <td>-30</td>\n",
       "      <td>-49</td>\n",
       "      <td>-60</td>\n",
       "      <td>-49</td>\n",
       "      <td>-38</td>\n",
       "      <td>Z</td>\n",
       "    </tr>\n",
       "    <tr>\n",
       "      <th>1966</th>\n",
       "      <td>0</td>\n",
       "      <td>26</td>\n",
       "      <td>48</td>\n",
       "      <td>50</td>\n",
       "      <td>38</td>\n",
       "      <td>56</td>\n",
       "      <td>72</td>\n",
       "      <td>82</td>\n",
       "      <td>90</td>\n",
       "      <td>42</td>\n",
       "      <td>...</td>\n",
       "      <td>-33</td>\n",
       "      <td>-46</td>\n",
       "      <td>-58</td>\n",
       "      <td>-43</td>\n",
       "      <td>-30</td>\n",
       "      <td>-47</td>\n",
       "      <td>-57</td>\n",
       "      <td>-46</td>\n",
       "      <td>-35</td>\n",
       "      <td>Z</td>\n",
       "    </tr>\n",
       "    <tr>\n",
       "      <th>1967</th>\n",
       "      <td>0</td>\n",
       "      <td>26</td>\n",
       "      <td>46</td>\n",
       "      <td>49</td>\n",
       "      <td>38</td>\n",
       "      <td>53</td>\n",
       "      <td>69</td>\n",
       "      <td>79</td>\n",
       "      <td>86</td>\n",
       "      <td>40</td>\n",
       "      <td>...</td>\n",
       "      <td>-33</td>\n",
       "      <td>-46</td>\n",
       "      <td>-58</td>\n",
       "      <td>-43</td>\n",
       "      <td>-29</td>\n",
       "      <td>-48</td>\n",
       "      <td>-58</td>\n",
       "      <td>-49</td>\n",
       "      <td>-37</td>\n",
       "      <td>Z</td>\n",
       "    </tr>\n",
       "    <tr>\n",
       "      <th>1968</th>\n",
       "      <td>0</td>\n",
       "      <td>24</td>\n",
       "      <td>46</td>\n",
       "      <td>48</td>\n",
       "      <td>36</td>\n",
       "      <td>53</td>\n",
       "      <td>69</td>\n",
       "      <td>78</td>\n",
       "      <td>86</td>\n",
       "      <td>40</td>\n",
       "      <td>...</td>\n",
       "      <td>-31</td>\n",
       "      <td>-44</td>\n",
       "      <td>-55</td>\n",
       "      <td>-40</td>\n",
       "      <td>-27</td>\n",
       "      <td>-45</td>\n",
       "      <td>-55</td>\n",
       "      <td>-45</td>\n",
       "      <td>-34</td>\n",
       "      <td>Z</td>\n",
       "    </tr>\n",
       "    <tr>\n",
       "      <th>1969</th>\n",
       "      <td>0</td>\n",
       "      <td>25</td>\n",
       "      <td>46</td>\n",
       "      <td>47</td>\n",
       "      <td>33</td>\n",
       "      <td>53</td>\n",
       "      <td>69</td>\n",
       "      <td>79</td>\n",
       "      <td>86</td>\n",
       "      <td>40</td>\n",
       "      <td>...</td>\n",
       "      <td>-30</td>\n",
       "      <td>-43</td>\n",
       "      <td>-54</td>\n",
       "      <td>-39</td>\n",
       "      <td>-27</td>\n",
       "      <td>-44</td>\n",
       "      <td>-51</td>\n",
       "      <td>-41</td>\n",
       "      <td>-31</td>\n",
       "      <td>Z</td>\n",
       "    </tr>\n",
       "  </tbody>\n",
       "</table>\n",
       "<p>1970 rows × 43 columns</p>\n",
       "</div>"
      ],
      "text/plain": [
       "      Node_X_0  Node_X_1  Node_X_2  Node_X_3  Node_X_4  Node_X_5  Node_X_6  \\\n",
       "0            0        23        36        38        36        15        21   \n",
       "1            0        23        37        38        35        14        21   \n",
       "2            0        23        38        41        36        15        22   \n",
       "3            0        24        40        43        39        17        23   \n",
       "4            0        24        41        44        41        19        25   \n",
       "...        ...       ...       ...       ...       ...       ...       ...   \n",
       "1965         0        27        49        51        37        55        73   \n",
       "1966         0        26        48        50        38        56        72   \n",
       "1967         0        26        46        49        38        53        69   \n",
       "1968         0        24        46        48        36        53        69   \n",
       "1969         0        25        46        47        33        53        69   \n",
       "\n",
       "      Node_X_7  Node_X_8  Node_X_9  ...  Node_Y_12  Node_Y_13  Node_Y_14  \\\n",
       "0           24        24        -2  ...        -31        -59        -66   \n",
       "1           24        25        -3  ...        -33        -63        -68   \n",
       "2           25        25        -2  ...        -33        -62        -69   \n",
       "3           25        25         0  ...        -34        -63        -70   \n",
       "4           26        26         1  ...        -33        -62        -69   \n",
       "...        ...       ...       ...  ...        ...        ...        ...   \n",
       "1965        82        90        42  ...        -33        -48        -59   \n",
       "1966        82        90        42  ...        -33        -46        -58   \n",
       "1967        79        86        40  ...        -33        -46        -58   \n",
       "1968        78        86        40  ...        -31        -44        -55   \n",
       "1969        79        86        40  ...        -30        -43        -54   \n",
       "\n",
       "      Node_Y_15  Node_Y_16  Node_Y_17  Node_Y_18  Node_Y_19  Node_Y_20  Class  \n",
       "0           -39        -21        -49        -57        -38        -24      A  \n",
       "1           -41        -23        -52        -59        -40        -26      A  \n",
       "2           -42        -24        -51        -59        -41        -28      A  \n",
       "3           -44        -25        -53        -62        -43        -29      A  \n",
       "4           -43        -25        -53        -61        -43        -29      A  \n",
       "...         ...        ...        ...        ...        ...        ...    ...  \n",
       "1965        -44        -30        -49        -60        -49        -38      Z  \n",
       "1966        -43        -30        -47        -57        -46        -35      Z  \n",
       "1967        -43        -29        -48        -58        -49        -37      Z  \n",
       "1968        -40        -27        -45        -55        -45        -34      Z  \n",
       "1969        -39        -27        -44        -51        -41        -31      Z  \n",
       "\n",
       "[1970 rows x 43 columns]"
      ]
     },
     "execution_count": 4,
     "metadata": {},
     "output_type": "execute_result"
    }
   ],
   "source": [
    "df_second3"
   ]
  },
  {
   "cell_type": "code",
   "execution_count": 5,
   "metadata": {},
   "outputs": [],
   "source": [
    "from sklearn.model_selection import train_test_split"
   ]
  },
  {
   "cell_type": "code",
   "execution_count": 6,
   "metadata": {},
   "outputs": [],
   "source": [
    "from sklearn.ensemble import RandomForestClassifier\n",
    "from sklearn.tree import DecisionTreeClassifier\n",
    "from sklearn import svm\n",
    "from sklearn.neighbors import KNeighborsClassifier as Knn\n",
    "\n",
    "from sklearn.metrics import confusion_matrix\n",
    "from sklearn.metrics import plot_confusion_matrix"
   ]
  },
  {
   "cell_type": "code",
   "execution_count": 9,
   "metadata": {},
   "outputs": [
    {
     "ename": "SyntaxError",
     "evalue": "invalid syntax (4124713093.py, line 1)",
     "output_type": "error",
     "traceback": [
      "\u001b[1;36m  Input \u001b[1;32mIn [9]\u001b[1;36m\u001b[0m\n\u001b[1;33m    Pip install sklearn\u001b[0m\n\u001b[1;37m        ^\u001b[0m\n\u001b[1;31mSyntaxError\u001b[0m\u001b[1;31m:\u001b[0m invalid syntax\n"
     ]
    }
   ],
   "source": [
    "Pip install sklearn\n"
   ]
  },
  {
   "cell_type": "code",
   "execution_count": 6,
   "metadata": {},
   "outputs": [
    {
     "ename": "NameError",
     "evalue": "name 'train_test_split' is not defined",
     "output_type": "error",
     "traceback": [
      "\u001b[1;31m---------------------------------------------------------------------------\u001b[0m",
      "\u001b[1;31mNameError\u001b[0m                                 Traceback (most recent call last)",
      "Input \u001b[1;32mIn [6]\u001b[0m, in \u001b[0;36m<cell line: 3>\u001b[1;34m()\u001b[0m\n\u001b[0;32m      1\u001b[0m X\u001b[38;5;241m=\u001b[39mdf_second3\u001b[38;5;241m.\u001b[39mdrop([\u001b[38;5;124m\"\u001b[39m\u001b[38;5;124mClass\u001b[39m\u001b[38;5;124m\"\u001b[39m],axis\u001b[38;5;241m=\u001b[39m\u001b[38;5;124m\"\u001b[39m\u001b[38;5;124mcolumns\u001b[39m\u001b[38;5;124m\"\u001b[39m)\n\u001b[0;32m      2\u001b[0m Y\u001b[38;5;241m=\u001b[39mdf_second3\u001b[38;5;241m.\u001b[39mClass\n\u001b[1;32m----> 3\u001b[0m X_train,X_test,Y_train,Y_test\u001b[38;5;241m=\u001b[39m\u001b[43mtrain_test_split\u001b[49m(X,Y,test_size\u001b[38;5;241m=\u001b[39m\u001b[38;5;241m0.2\u001b[39m,random_state\u001b[38;5;241m=\u001b[39m\u001b[38;5;241m1\u001b[39m)\n\u001b[0;32m      4\u001b[0m C_P_test\u001b[38;5;241m=\u001b[39mdf_second3\n\u001b[0;32m      5\u001b[0m grouped\u001b[38;5;241m=\u001b[39mdf_second3\u001b[38;5;241m.\u001b[39mgroupby(df_second3\u001b[38;5;241m.\u001b[39mClass)\n",
      "\u001b[1;31mNameError\u001b[0m: name 'train_test_split' is not defined"
     ]
    }
   ],
   "source": [
    "X=df_second3.drop([\"Class\"],axis=\"columns\")\n",
    "Y=df_second3.Class\n",
    "X_train,X_test,Y_train,Y_test=train_test_split(X,Y,test_size=0.2,random_state=1)\n",
    "C_P_test=df_second3\n",
    "grouped=df_second3.groupby(df_second3.Class)\n",
    "A= grouped.get_group(\"A\")\n",
    "B= grouped.get_group(\"B\")\n",
    "C= grouped.get_group(\"C\")\n",
    "D= grouped.get_group(\"D\")\n",
    "E= grouped.get_group(\"E\")\n",
    "F= grouped.get_group(\"F\")\n",
    "G= grouped.get_group(\"G\")\n",
    "H= grouped.get_group(\"H\")\n",
    "I= grouped.get_group(\"I\")\n",
    "J= grouped.get_group(\"J\")\n",
    "C_P_test\n",
    "C_P_test=[A,B,C,D,E,F,G,H,I,J]\n",
    "C_P_test=pd.concat(C_P_test)\n",
    "X1=C_P_test.drop([\"Class\"],axis=\"columns\")\n",
    "Y1=C_P_test.Class\n",
    "X1_train,X1_test,Y1_train,Y1_test=train_test_split(X1,Y1,test_size=0.2,random_state=1)"
   ]
  },
  {
   "cell_type": "code",
   "execution_count": 69,
   "metadata": {},
   "outputs": [],
   "source": []
  },
  {
   "cell_type": "code",
   "execution_count": 73,
   "metadata": {},
   "outputs": [],
   "source": []
  },
  {
   "cell_type": "code",
   "execution_count": null,
   "metadata": {},
   "outputs": [],
   "source": []
  },
  {
   "cell_type": "code",
   "execution_count": null,
   "metadata": {},
   "outputs": [],
   "source": []
  },
  {
   "cell_type": "code",
   "execution_count": 83,
   "metadata": {},
   "outputs": [],
   "source": []
  },
  {
   "cell_type": "code",
   "execution_count": 121,
   "metadata": {},
   "outputs": [],
   "source": []
  },
  {
   "cell_type": "code",
   "execution_count": 35,
   "metadata": {},
   "outputs": [
    {
     "data": {
      "text/html": [
       "<div>\n",
       "<style scoped>\n",
       "    .dataframe tbody tr th:only-of-type {\n",
       "        vertical-align: middle;\n",
       "    }\n",
       "\n",
       "    .dataframe tbody tr th {\n",
       "        vertical-align: top;\n",
       "    }\n",
       "\n",
       "    .dataframe thead th {\n",
       "        text-align: right;\n",
       "    }\n",
       "</style>\n",
       "<table border=\"1\" class=\"dataframe\">\n",
       "  <thead>\n",
       "    <tr style=\"text-align: right;\">\n",
       "      <th></th>\n",
       "      <th>Node_X_0</th>\n",
       "      <th>Node_X_1</th>\n",
       "      <th>Node_X_2</th>\n",
       "      <th>Node_X_3</th>\n",
       "      <th>Node_X_4</th>\n",
       "      <th>Node_X_5</th>\n",
       "      <th>Node_X_6</th>\n",
       "      <th>Node_X_7</th>\n",
       "      <th>Node_X_8</th>\n",
       "      <th>Node_X_9</th>\n",
       "      <th>...</th>\n",
       "      <th>Node_Y_12</th>\n",
       "      <th>Node_Y_13</th>\n",
       "      <th>Node_Y_14</th>\n",
       "      <th>Node_Y_15</th>\n",
       "      <th>Node_Y_16</th>\n",
       "      <th>Node_Y_17</th>\n",
       "      <th>Node_Y_18</th>\n",
       "      <th>Node_Y_19</th>\n",
       "      <th>Node_Y_20</th>\n",
       "      <th>Class</th>\n",
       "    </tr>\n",
       "  </thead>\n",
       "  <tbody>\n",
       "    <tr>\n",
       "      <th>0</th>\n",
       "      <td>0</td>\n",
       "      <td>23</td>\n",
       "      <td>36</td>\n",
       "      <td>38</td>\n",
       "      <td>36</td>\n",
       "      <td>15</td>\n",
       "      <td>21</td>\n",
       "      <td>24</td>\n",
       "      <td>24</td>\n",
       "      <td>-2</td>\n",
       "      <td>...</td>\n",
       "      <td>-31</td>\n",
       "      <td>-59</td>\n",
       "      <td>-66</td>\n",
       "      <td>-39</td>\n",
       "      <td>-21</td>\n",
       "      <td>-49</td>\n",
       "      <td>-57</td>\n",
       "      <td>-38</td>\n",
       "      <td>-24</td>\n",
       "      <td>A</td>\n",
       "    </tr>\n",
       "    <tr>\n",
       "      <th>1</th>\n",
       "      <td>0</td>\n",
       "      <td>23</td>\n",
       "      <td>37</td>\n",
       "      <td>38</td>\n",
       "      <td>35</td>\n",
       "      <td>14</td>\n",
       "      <td>21</td>\n",
       "      <td>24</td>\n",
       "      <td>25</td>\n",
       "      <td>-3</td>\n",
       "      <td>...</td>\n",
       "      <td>-33</td>\n",
       "      <td>-63</td>\n",
       "      <td>-68</td>\n",
       "      <td>-41</td>\n",
       "      <td>-23</td>\n",
       "      <td>-52</td>\n",
       "      <td>-59</td>\n",
       "      <td>-40</td>\n",
       "      <td>-26</td>\n",
       "      <td>A</td>\n",
       "    </tr>\n",
       "    <tr>\n",
       "      <th>2</th>\n",
       "      <td>0</td>\n",
       "      <td>23</td>\n",
       "      <td>38</td>\n",
       "      <td>41</td>\n",
       "      <td>36</td>\n",
       "      <td>15</td>\n",
       "      <td>22</td>\n",
       "      <td>25</td>\n",
       "      <td>25</td>\n",
       "      <td>-2</td>\n",
       "      <td>...</td>\n",
       "      <td>-33</td>\n",
       "      <td>-62</td>\n",
       "      <td>-69</td>\n",
       "      <td>-42</td>\n",
       "      <td>-24</td>\n",
       "      <td>-51</td>\n",
       "      <td>-59</td>\n",
       "      <td>-41</td>\n",
       "      <td>-28</td>\n",
       "      <td>A</td>\n",
       "    </tr>\n",
       "    <tr>\n",
       "      <th>3</th>\n",
       "      <td>0</td>\n",
       "      <td>24</td>\n",
       "      <td>40</td>\n",
       "      <td>43</td>\n",
       "      <td>39</td>\n",
       "      <td>17</td>\n",
       "      <td>23</td>\n",
       "      <td>25</td>\n",
       "      <td>25</td>\n",
       "      <td>0</td>\n",
       "      <td>...</td>\n",
       "      <td>-34</td>\n",
       "      <td>-63</td>\n",
       "      <td>-70</td>\n",
       "      <td>-44</td>\n",
       "      <td>-25</td>\n",
       "      <td>-53</td>\n",
       "      <td>-62</td>\n",
       "      <td>-43</td>\n",
       "      <td>-29</td>\n",
       "      <td>A</td>\n",
       "    </tr>\n",
       "    <tr>\n",
       "      <th>4</th>\n",
       "      <td>0</td>\n",
       "      <td>24</td>\n",
       "      <td>41</td>\n",
       "      <td>44</td>\n",
       "      <td>41</td>\n",
       "      <td>19</td>\n",
       "      <td>25</td>\n",
       "      <td>26</td>\n",
       "      <td>26</td>\n",
       "      <td>1</td>\n",
       "      <td>...</td>\n",
       "      <td>-33</td>\n",
       "      <td>-62</td>\n",
       "      <td>-69</td>\n",
       "      <td>-43</td>\n",
       "      <td>-25</td>\n",
       "      <td>-53</td>\n",
       "      <td>-61</td>\n",
       "      <td>-43</td>\n",
       "      <td>-29</td>\n",
       "      <td>A</td>\n",
       "    </tr>\n",
       "    <tr>\n",
       "      <th>...</th>\n",
       "      <td>...</td>\n",
       "      <td>...</td>\n",
       "      <td>...</td>\n",
       "      <td>...</td>\n",
       "      <td>...</td>\n",
       "      <td>...</td>\n",
       "      <td>...</td>\n",
       "      <td>...</td>\n",
       "      <td>...</td>\n",
       "      <td>...</td>\n",
       "      <td>...</td>\n",
       "      <td>...</td>\n",
       "      <td>...</td>\n",
       "      <td>...</td>\n",
       "      <td>...</td>\n",
       "      <td>...</td>\n",
       "      <td>...</td>\n",
       "      <td>...</td>\n",
       "      <td>...</td>\n",
       "      <td>...</td>\n",
       "      <td>...</td>\n",
       "    </tr>\n",
       "    <tr>\n",
       "      <th>1965</th>\n",
       "      <td>0</td>\n",
       "      <td>27</td>\n",
       "      <td>49</td>\n",
       "      <td>51</td>\n",
       "      <td>37</td>\n",
       "      <td>55</td>\n",
       "      <td>73</td>\n",
       "      <td>82</td>\n",
       "      <td>90</td>\n",
       "      <td>42</td>\n",
       "      <td>...</td>\n",
       "      <td>-33</td>\n",
       "      <td>-48</td>\n",
       "      <td>-59</td>\n",
       "      <td>-44</td>\n",
       "      <td>-30</td>\n",
       "      <td>-49</td>\n",
       "      <td>-60</td>\n",
       "      <td>-49</td>\n",
       "      <td>-38</td>\n",
       "      <td>Z</td>\n",
       "    </tr>\n",
       "    <tr>\n",
       "      <th>1966</th>\n",
       "      <td>0</td>\n",
       "      <td>26</td>\n",
       "      <td>48</td>\n",
       "      <td>50</td>\n",
       "      <td>38</td>\n",
       "      <td>56</td>\n",
       "      <td>72</td>\n",
       "      <td>82</td>\n",
       "      <td>90</td>\n",
       "      <td>42</td>\n",
       "      <td>...</td>\n",
       "      <td>-33</td>\n",
       "      <td>-46</td>\n",
       "      <td>-58</td>\n",
       "      <td>-43</td>\n",
       "      <td>-30</td>\n",
       "      <td>-47</td>\n",
       "      <td>-57</td>\n",
       "      <td>-46</td>\n",
       "      <td>-35</td>\n",
       "      <td>Z</td>\n",
       "    </tr>\n",
       "    <tr>\n",
       "      <th>1967</th>\n",
       "      <td>0</td>\n",
       "      <td>26</td>\n",
       "      <td>46</td>\n",
       "      <td>49</td>\n",
       "      <td>38</td>\n",
       "      <td>53</td>\n",
       "      <td>69</td>\n",
       "      <td>79</td>\n",
       "      <td>86</td>\n",
       "      <td>40</td>\n",
       "      <td>...</td>\n",
       "      <td>-33</td>\n",
       "      <td>-46</td>\n",
       "      <td>-58</td>\n",
       "      <td>-43</td>\n",
       "      <td>-29</td>\n",
       "      <td>-48</td>\n",
       "      <td>-58</td>\n",
       "      <td>-49</td>\n",
       "      <td>-37</td>\n",
       "      <td>Z</td>\n",
       "    </tr>\n",
       "    <tr>\n",
       "      <th>1968</th>\n",
       "      <td>0</td>\n",
       "      <td>24</td>\n",
       "      <td>46</td>\n",
       "      <td>48</td>\n",
       "      <td>36</td>\n",
       "      <td>53</td>\n",
       "      <td>69</td>\n",
       "      <td>78</td>\n",
       "      <td>86</td>\n",
       "      <td>40</td>\n",
       "      <td>...</td>\n",
       "      <td>-31</td>\n",
       "      <td>-44</td>\n",
       "      <td>-55</td>\n",
       "      <td>-40</td>\n",
       "      <td>-27</td>\n",
       "      <td>-45</td>\n",
       "      <td>-55</td>\n",
       "      <td>-45</td>\n",
       "      <td>-34</td>\n",
       "      <td>Z</td>\n",
       "    </tr>\n",
       "    <tr>\n",
       "      <th>1969</th>\n",
       "      <td>0</td>\n",
       "      <td>25</td>\n",
       "      <td>46</td>\n",
       "      <td>47</td>\n",
       "      <td>33</td>\n",
       "      <td>53</td>\n",
       "      <td>69</td>\n",
       "      <td>79</td>\n",
       "      <td>86</td>\n",
       "      <td>40</td>\n",
       "      <td>...</td>\n",
       "      <td>-30</td>\n",
       "      <td>-43</td>\n",
       "      <td>-54</td>\n",
       "      <td>-39</td>\n",
       "      <td>-27</td>\n",
       "      <td>-44</td>\n",
       "      <td>-51</td>\n",
       "      <td>-41</td>\n",
       "      <td>-31</td>\n",
       "      <td>Z</td>\n",
       "    </tr>\n",
       "  </tbody>\n",
       "</table>\n",
       "<p>1970 rows × 43 columns</p>\n",
       "</div>"
      ],
      "text/plain": [
       "      Node_X_0  Node_X_1  Node_X_2  Node_X_3  Node_X_4  Node_X_5  Node_X_6  \\\n",
       "0            0        23        36        38        36        15        21   \n",
       "1            0        23        37        38        35        14        21   \n",
       "2            0        23        38        41        36        15        22   \n",
       "3            0        24        40        43        39        17        23   \n",
       "4            0        24        41        44        41        19        25   \n",
       "...        ...       ...       ...       ...       ...       ...       ...   \n",
       "1965         0        27        49        51        37        55        73   \n",
       "1966         0        26        48        50        38        56        72   \n",
       "1967         0        26        46        49        38        53        69   \n",
       "1968         0        24        46        48        36        53        69   \n",
       "1969         0        25        46        47        33        53        69   \n",
       "\n",
       "      Node_X_7  Node_X_8  Node_X_9  ...  Node_Y_12  Node_Y_13  Node_Y_14  \\\n",
       "0           24        24        -2  ...        -31        -59        -66   \n",
       "1           24        25        -3  ...        -33        -63        -68   \n",
       "2           25        25        -2  ...        -33        -62        -69   \n",
       "3           25        25         0  ...        -34        -63        -70   \n",
       "4           26        26         1  ...        -33        -62        -69   \n",
       "...        ...       ...       ...  ...        ...        ...        ...   \n",
       "1965        82        90        42  ...        -33        -48        -59   \n",
       "1966        82        90        42  ...        -33        -46        -58   \n",
       "1967        79        86        40  ...        -33        -46        -58   \n",
       "1968        78        86        40  ...        -31        -44        -55   \n",
       "1969        79        86        40  ...        -30        -43        -54   \n",
       "\n",
       "      Node_Y_15  Node_Y_16  Node_Y_17  Node_Y_18  Node_Y_19  Node_Y_20  Class  \n",
       "0           -39        -21        -49        -57        -38        -24      A  \n",
       "1           -41        -23        -52        -59        -40        -26      A  \n",
       "2           -42        -24        -51        -59        -41        -28      A  \n",
       "3           -44        -25        -53        -62        -43        -29      A  \n",
       "4           -43        -25        -53        -61        -43        -29      A  \n",
       "...         ...        ...        ...        ...        ...        ...    ...  \n",
       "1965        -44        -30        -49        -60        -49        -38      Z  \n",
       "1966        -43        -30        -47        -57        -46        -35      Z  \n",
       "1967        -43        -29        -48        -58        -49        -37      Z  \n",
       "1968        -40        -27        -45        -55        -45        -34      Z  \n",
       "1969        -39        -27        -44        -51        -41        -31      Z  \n",
       "\n",
       "[1970 rows x 43 columns]"
      ]
     },
     "execution_count": 35,
     "metadata": {},
     "output_type": "execute_result"
    }
   ],
   "source": [
    "df_second3"
   ]
  },
  {
   "cell_type": "code",
   "execution_count": 113,
   "metadata": {},
   "outputs": [
    {
     "data": {
      "text/plain": [
       "0"
      ]
     },
     "execution_count": 113,
     "metadata": {},
     "output_type": "execute_result"
    }
   ],
   "source": [
    "t"
   ]
  },
  {
   "cell_type": "code",
   "execution_count": 87,
   "metadata": {},
   "outputs": [
    {
     "data": {
      "text/plain": [
       "0      A\n",
       "1      A\n",
       "2      A\n",
       "3      A\n",
       "4      A\n",
       "      ..\n",
       "863    J\n",
       "864    J\n",
       "865    J\n",
       "866    J\n",
       "867    J\n",
       "Name: Class, Length: 868, dtype: object"
      ]
     },
     "execution_count": 87,
     "metadata": {},
     "output_type": "execute_result"
    }
   ],
   "source": [
    "Y1"
   ]
  },
  {
   "cell_type": "code",
   "execution_count": 6,
   "metadata": {},
   "outputs": [],
   "source": [
    "from sklearn.model_selection import train_test_split"
   ]
  },
  {
   "cell_type": "code",
   "execution_count": 74,
   "metadata": {},
   "outputs": [
    {
     "name": "stdout",
     "output_type": "stream",
     "text": [
      "DTC 0.9441624365482234\n",
      "DTC 1.0\n",
      "DTC 0.9888324873096447\n",
      "rfc 0.9720812182741116\n",
      "rfc 1.0\n",
      "rfc 0.9944162436548223\n",
      "svm 0.9416243654822335\n",
      "svm 0.9606598984771574\n",
      "svm 0.9568527918781726\n",
      "KNN 0.9746192893401016\n",
      "KNN 0.9873096446700508\n",
      "KNN 0.9847715736040609\n"
     ]
    },
    {
     "data": {
      "image/png": "[encoded data removed]",
      "text/plain": [
       "<Figure size 720x720 with 2 Axes>"
      ]
     },
     "metadata": {
      "needs_background": "light"
     },
     "output_type": "display_data"
    }
   ],
   "source": [
    "##---------------------For plain background\n",
    "X=df_second3.drop([\"Class\"],axis=\"columns\")\n",
    "Y=df_second3.Class\n",
    "X_train,X_test,Y_train,Y_test=train_test_split(X,Y,test_size=0.2,random_state=1)\n",
    "\n",
    "#DTC\n",
    "model_DTC=DecisionTreeClassifier()\n",
    "model_DTC.fit(X_train,Y_train)\n",
    "print(\"DTC\", model_DTC.score(X_test,Y_test))\n",
    "print(\"DTC\", model_DTC.score(X_train, Y_train))\n",
    "print(\"DTC\", model_DTC.score(X, Y))\n",
    "\n",
    "#RFC\n",
    "model_rfc=RandomForestClassifier()\n",
    "model_rfc.fit(X_train,Y_train)\n",
    "print(\"rfc\",model_rfc.score(X_test,Y_test))\n",
    "print(\"rfc\",model_rfc.score(X_train, Y_train))\n",
    "print(\"rfc\",model_rfc.score(X, Y))\n",
    "\n",
    "#SVM\n",
    "model_svm=svm.SVC(kernel='rbf')\n",
    "model_svm.fit(X_train,Y_train)\n",
    "print(\"svm\",model_svm.score(X_test,Y_test))\n",
    "print(\"svm\",model_svm.score(X_train, Y_train))\n",
    "print(\"svm\",model_svm.score(X, Y))\n",
    "\n",
    "##use different kernels for svm\n",
    "\n",
    "#KNN\n",
    "model_knn=Knn(n_neighbors=5)\n",
    "model_knn.fit(X_train,Y_train)\n",
    "print(\"KNN\", model_knn.score(X_test,Y_test))\n",
    "print(\"KNN\", model_knn.score(X_train, Y_train))\n",
    "print(\"KNN\", model_knn.score(X, Y))\n",
    "\n",
    "\n",
    "\n",
    "\n",
    "\n",
    "# ##Confusion matrix\n",
    "# cm_rfc=confusion_matrix(Y_test, rfc_pred)\n",
    "# cm_DTC=confusion_matrix(Y_test,DTC_pred)\n",
    "# cm_svm=confusion_matrix(Y_test, svm_pred)\n",
    "# cm_knn=confusion_matrix(Y_test, knn_pred)\n",
    "\n",
    "\n",
    "##Confusion Matrix in a picture type format\n",
    "from sklearn.metrics import plot_confusion_matrix\n",
    "fig, ax = plt.subplots(figsize=(10, 10))\n",
    "\n",
    "   #NOTE: HERE THE PLOT SHOULD BE PLOTTED FOR EACH ONE SEPERATELY ELSE IT WILL STACKED\n",
    "\n",
    "# plot_confusion_matrix(model_DTC, X_test, Y_test, ax=ax)  \n",
    "# plt.title(\"DTC\")\n",
    "# fig.savefig('confusion_matrix'+' DTC1'+'.pdf')\n",
    "\n",
    "\n",
    "# plot_confusion_matrix(model_rfc, X_test, Y_test,ax=ax)\n",
    "# plt.title(\"RFC\")\n",
    "# fig.savefig('confusion_matrix'+' RFC1'+'.pdf')\n",
    "\n",
    "\n",
    "# plot_confusion_matrix(model_svm, X_test, Y_test,ax=ax)\n",
    "# plt.title(\"SVM\")\n",
    "# fig.savefig('confusion_matrix'+' SVM1'+'.pdf')\n",
    "\n",
    "\n",
    "plot_confusion_matrix(model_knn, X_test, Y_test,ax=ax) \n",
    "plt.title(\"KNN\")\n",
    "fig.savefig('confusion_matrix'+' KNN1'+'.pdf')"
   ]
  },
  {
   "cell_type": "code",
   "execution_count": null,
   "metadata": {},
   "outputs": [],
   "source": []
  },
  {
   "cell_type": "code",
   "execution_count": 80,
   "metadata": {},
   "outputs": [],
   "source": [
    "list1=[]\n",
    "list2=[]\n",
    "list3=[]\n",
    "for i in range(45):\n",
    "    model_knn=Knn(n_neighbors=i+1)\n",
    "    model_knn.fit(X_train,Y_train)\n",
    "#     print(\"KNN\", model_knn.score(X_test,Y_test))\n",
    "#     print(\"KNN\", model_knn.score(X_train, Y_train))\n",
    "#     print(\"KNN\", model_knn.score(X, Y))\n",
    "    list1.append(model_knn.score(X_test,Y_test))\n",
    "    list2.append(model_knn.score(X_train, Y_train))\n",
    "    list3.append(model_knn.score(X, Y))\n"
   ]
  },
  {
   "cell_type": "code",
   "execution_count": null,
   "metadata": {},
   "outputs": [],
   "source": []
  },
  {
   "cell_type": "code",
   "execution_count": null,
   "metadata": {},
   "outputs": [],
   "source": []
  },
  {
   "cell_type": "code",
   "execution_count": 84,
   "metadata": {},
   "outputs": [
    {
     "data": {
      "text/plain": [
       "[0.9863760217983651,\n",
       " 0.9863760217983651,\n",
       " 0.9836512261580381,\n",
       " 0.9809264305177112,\n",
       " 0.9809264305177112,\n",
       " 0.9836512261580381,\n",
       " 0.9809264305177112,\n",
       " 0.9836512261580381,\n",
       " 0.9754768392370572,\n",
       " 0.9809264305177112,\n",
       " 0.9754768392370572,\n",
       " 0.9754768392370572,\n",
       " 0.9700272479564033,\n",
       " 0.9754768392370572,\n",
       " 0.9645776566757494,\n",
       " 0.9645776566757494,\n",
       " 0.9618528610354223,\n",
       " 0.9618528610354223,\n",
       " 0.9645776566757494,\n",
       " 0.9591280653950953,\n",
       " 0.9564032697547684,\n",
       " 0.9564032697547684,\n",
       " 0.9509536784741145,\n",
       " 0.9482288828337875,\n",
       " 0.9482288828337875,\n",
       " 0.9482288828337875,\n",
       " 0.9482288828337875,\n",
       " 0.9482288828337875,\n",
       " 0.9509536784741145,\n",
       " 0.9536784741144414,\n",
       " 0.9482288828337875,\n",
       " 0.9509536784741145,\n",
       " 0.9455040871934605,\n",
       " 0.9536784741144414,\n",
       " 0.9482288828337875,\n",
       " 0.9536784741144414,\n",
       " 0.9482288828337875,\n",
       " 0.9482288828337875,\n",
       " 0.9482288828337875,\n",
       " 0.9455040871934605,\n",
       " 0.9509536784741145,\n",
       " 0.9509536784741145,\n",
       " 0.9482288828337875,\n",
       " 0.9482288828337875,\n",
       " 0.9482288828337875]"
      ]
     },
     "execution_count": 84,
     "metadata": {},
     "output_type": "execute_result"
    }
   ],
   "source": [
    "list1"
   ]
  },
  {
   "cell_type": "code",
   "execution_count": 91,
   "metadata": {},
   "outputs": [
    {
     "data": {
      "image/png": "[encoded data removed]",
      "text/plain": [
       "<Figure size 432x288 with 1 Axes>"
      ]
     },
     "metadata": {
      "needs_background": "light"
     },
     "output_type": "display_data"
    }
   ],
   "source": [
    "plt.plot(range(45),list1)\n",
    "plt.xlabel(\"K_value\")\n",
    "plt.ylabel(\"Accuracy\")\n",
    "plt.show()"
   ]
  },
  {
   "cell_type": "code",
   "execution_count": 34,
   "metadata": {},
   "outputs": [
    {
     "data": {
      "text/html": [
       "<div>\n",
       "<style scoped>\n",
       "    .dataframe tbody tr th:only-of-type {\n",
       "        vertical-align: middle;\n",
       "    }\n",
       "\n",
       "    .dataframe tbody tr th {\n",
       "        vertical-align: top;\n",
       "    }\n",
       "\n",
       "    .dataframe thead th {\n",
       "        text-align: right;\n",
       "    }\n",
       "</style>\n",
       "<table border=\"1\" class=\"dataframe\">\n",
       "  <thead>\n",
       "    <tr style=\"text-align: right;\">\n",
       "      <th></th>\n",
       "      <th>Node_X_0</th>\n",
       "      <th>Node_X_1</th>\n",
       "      <th>Node_X_2</th>\n",
       "      <th>Node_X_3</th>\n",
       "      <th>Node_X_4</th>\n",
       "      <th>Node_X_5</th>\n",
       "      <th>Node_X_6</th>\n",
       "      <th>Node_X_7</th>\n",
       "      <th>Node_X_8</th>\n",
       "      <th>Node_X_9</th>\n",
       "      <th>...</th>\n",
       "      <th>Node_Y_12</th>\n",
       "      <th>Node_Y_13</th>\n",
       "      <th>Node_Y_14</th>\n",
       "      <th>Node_Y_15</th>\n",
       "      <th>Node_Y_16</th>\n",
       "      <th>Node_Y_17</th>\n",
       "      <th>Node_Y_18</th>\n",
       "      <th>Node_Y_19</th>\n",
       "      <th>Node_Y_20</th>\n",
       "      <th>Class</th>\n",
       "    </tr>\n",
       "  </thead>\n",
       "  <tbody>\n",
       "    <tr>\n",
       "      <th>0</th>\n",
       "      <td>0</td>\n",
       "      <td>22</td>\n",
       "      <td>36</td>\n",
       "      <td>40</td>\n",
       "      <td>47</td>\n",
       "      <td>24</td>\n",
       "      <td>25</td>\n",
       "      <td>21</td>\n",
       "      <td>17</td>\n",
       "      <td>9</td>\n",
       "      <td>...</td>\n",
       "      <td>-21</td>\n",
       "      <td>-44</td>\n",
       "      <td>-53</td>\n",
       "      <td>-29</td>\n",
       "      <td>-13</td>\n",
       "      <td>-39</td>\n",
       "      <td>-48</td>\n",
       "      <td>-33</td>\n",
       "      <td>-21</td>\n",
       "      <td>a</td>\n",
       "    </tr>\n",
       "    <tr>\n",
       "      <th>1</th>\n",
       "      <td>0</td>\n",
       "      <td>19</td>\n",
       "      <td>31</td>\n",
       "      <td>35</td>\n",
       "      <td>41</td>\n",
       "      <td>20</td>\n",
       "      <td>20</td>\n",
       "      <td>16</td>\n",
       "      <td>13</td>\n",
       "      <td>7</td>\n",
       "      <td>...</td>\n",
       "      <td>-23</td>\n",
       "      <td>-46</td>\n",
       "      <td>-51</td>\n",
       "      <td>-34</td>\n",
       "      <td>-21</td>\n",
       "      <td>-41</td>\n",
       "      <td>-47</td>\n",
       "      <td>-35</td>\n",
       "      <td>-26</td>\n",
       "      <td>a</td>\n",
       "    </tr>\n",
       "    <tr>\n",
       "      <th>2</th>\n",
       "      <td>0</td>\n",
       "      <td>15</td>\n",
       "      <td>27</td>\n",
       "      <td>30</td>\n",
       "      <td>35</td>\n",
       "      <td>15</td>\n",
       "      <td>16</td>\n",
       "      <td>13</td>\n",
       "      <td>11</td>\n",
       "      <td>3</td>\n",
       "      <td>...</td>\n",
       "      <td>-23</td>\n",
       "      <td>-42</td>\n",
       "      <td>-48</td>\n",
       "      <td>-32</td>\n",
       "      <td>-20</td>\n",
       "      <td>-37</td>\n",
       "      <td>-44</td>\n",
       "      <td>-33</td>\n",
       "      <td>-24</td>\n",
       "      <td>a</td>\n",
       "    </tr>\n",
       "    <tr>\n",
       "      <th>3</th>\n",
       "      <td>0</td>\n",
       "      <td>19</td>\n",
       "      <td>32</td>\n",
       "      <td>35</td>\n",
       "      <td>38</td>\n",
       "      <td>22</td>\n",
       "      <td>24</td>\n",
       "      <td>20</td>\n",
       "      <td>18</td>\n",
       "      <td>9</td>\n",
       "      <td>...</td>\n",
       "      <td>-20</td>\n",
       "      <td>-40</td>\n",
       "      <td>-46</td>\n",
       "      <td>-29</td>\n",
       "      <td>-15</td>\n",
       "      <td>-35</td>\n",
       "      <td>-42</td>\n",
       "      <td>-31</td>\n",
       "      <td>-21</td>\n",
       "      <td>a</td>\n",
       "    </tr>\n",
       "    <tr>\n",
       "      <th>4</th>\n",
       "      <td>0</td>\n",
       "      <td>18</td>\n",
       "      <td>31</td>\n",
       "      <td>35</td>\n",
       "      <td>40</td>\n",
       "      <td>21</td>\n",
       "      <td>23</td>\n",
       "      <td>18</td>\n",
       "      <td>14</td>\n",
       "      <td>7</td>\n",
       "      <td>...</td>\n",
       "      <td>-20</td>\n",
       "      <td>-47</td>\n",
       "      <td>-52</td>\n",
       "      <td>-31</td>\n",
       "      <td>-18</td>\n",
       "      <td>-41</td>\n",
       "      <td>-45</td>\n",
       "      <td>-30</td>\n",
       "      <td>-21</td>\n",
       "      <td>a</td>\n",
       "    </tr>\n",
       "    <tr>\n",
       "      <th>...</th>\n",
       "      <td>...</td>\n",
       "      <td>...</td>\n",
       "      <td>...</td>\n",
       "      <td>...</td>\n",
       "      <td>...</td>\n",
       "      <td>...</td>\n",
       "      <td>...</td>\n",
       "      <td>...</td>\n",
       "      <td>...</td>\n",
       "      <td>...</td>\n",
       "      <td>...</td>\n",
       "      <td>...</td>\n",
       "      <td>...</td>\n",
       "      <td>...</td>\n",
       "      <td>...</td>\n",
       "      <td>...</td>\n",
       "      <td>...</td>\n",
       "      <td>...</td>\n",
       "      <td>...</td>\n",
       "      <td>...</td>\n",
       "      <td>...</td>\n",
       "    </tr>\n",
       "    <tr>\n",
       "      <th>1830</th>\n",
       "      <td>0</td>\n",
       "      <td>-5</td>\n",
       "      <td>-18</td>\n",
       "      <td>-28</td>\n",
       "      <td>-39</td>\n",
       "      <td>-46</td>\n",
       "      <td>-65</td>\n",
       "      <td>-78</td>\n",
       "      <td>-89</td>\n",
       "      <td>-48</td>\n",
       "      <td>...</td>\n",
       "      <td>-1</td>\n",
       "      <td>7</td>\n",
       "      <td>14</td>\n",
       "      <td>10</td>\n",
       "      <td>6</td>\n",
       "      <td>14</td>\n",
       "      <td>18</td>\n",
       "      <td>14</td>\n",
       "      <td>10</td>\n",
       "      <td>j</td>\n",
       "    </tr>\n",
       "    <tr>\n",
       "      <th>1831</th>\n",
       "      <td>0</td>\n",
       "      <td>-3</td>\n",
       "      <td>-15</td>\n",
       "      <td>-24</td>\n",
       "      <td>-34</td>\n",
       "      <td>-45</td>\n",
       "      <td>-64</td>\n",
       "      <td>-77</td>\n",
       "      <td>-88</td>\n",
       "      <td>-47</td>\n",
       "      <td>...</td>\n",
       "      <td>-8</td>\n",
       "      <td>4</td>\n",
       "      <td>8</td>\n",
       "      <td>4</td>\n",
       "      <td>1</td>\n",
       "      <td>11</td>\n",
       "      <td>11</td>\n",
       "      <td>6</td>\n",
       "      <td>3</td>\n",
       "      <td>j</td>\n",
       "    </tr>\n",
       "    <tr>\n",
       "      <th>1832</th>\n",
       "      <td>0</td>\n",
       "      <td>-1</td>\n",
       "      <td>-14</td>\n",
       "      <td>-28</td>\n",
       "      <td>-39</td>\n",
       "      <td>-45</td>\n",
       "      <td>-64</td>\n",
       "      <td>-79</td>\n",
       "      <td>-91</td>\n",
       "      <td>-48</td>\n",
       "      <td>...</td>\n",
       "      <td>-16</td>\n",
       "      <td>1</td>\n",
       "      <td>2</td>\n",
       "      <td>-1</td>\n",
       "      <td>-3</td>\n",
       "      <td>10</td>\n",
       "      <td>9</td>\n",
       "      <td>4</td>\n",
       "      <td>1</td>\n",
       "      <td>j</td>\n",
       "    </tr>\n",
       "    <tr>\n",
       "      <th>1833</th>\n",
       "      <td>0</td>\n",
       "      <td>-4</td>\n",
       "      <td>-17</td>\n",
       "      <td>-29</td>\n",
       "      <td>-42</td>\n",
       "      <td>-44</td>\n",
       "      <td>-64</td>\n",
       "      <td>-77</td>\n",
       "      <td>-89</td>\n",
       "      <td>-46</td>\n",
       "      <td>...</td>\n",
       "      <td>-9</td>\n",
       "      <td>0</td>\n",
       "      <td>6</td>\n",
       "      <td>4</td>\n",
       "      <td>0</td>\n",
       "      <td>7</td>\n",
       "      <td>11</td>\n",
       "      <td>7</td>\n",
       "      <td>3</td>\n",
       "      <td>j</td>\n",
       "    </tr>\n",
       "    <tr>\n",
       "      <th>1834</th>\n",
       "      <td>0</td>\n",
       "      <td>-2</td>\n",
       "      <td>-13</td>\n",
       "      <td>-25</td>\n",
       "      <td>-36</td>\n",
       "      <td>-31</td>\n",
       "      <td>-47</td>\n",
       "      <td>-59</td>\n",
       "      <td>-70</td>\n",
       "      <td>-35</td>\n",
       "      <td>...</td>\n",
       "      <td>-14</td>\n",
       "      <td>-3</td>\n",
       "      <td>0</td>\n",
       "      <td>0</td>\n",
       "      <td>0</td>\n",
       "      <td>4</td>\n",
       "      <td>8</td>\n",
       "      <td>6</td>\n",
       "      <td>3</td>\n",
       "      <td>j</td>\n",
       "    </tr>\n",
       "  </tbody>\n",
       "</table>\n",
       "<p>1835 rows × 43 columns</p>\n",
       "</div>"
      ],
      "text/plain": [
       "      Node_X_0  Node_X_1  Node_X_2  Node_X_3  Node_X_4  Node_X_5  Node_X_6  \\\n",
       "0            0        22        36        40        47        24        25   \n",
       "1            0        19        31        35        41        20        20   \n",
       "2            0        15        27        30        35        15        16   \n",
       "3            0        19        32        35        38        22        24   \n",
       "4            0        18        31        35        40        21        23   \n",
       "...        ...       ...       ...       ...       ...       ...       ...   \n",
       "1830         0        -5       -18       -28       -39       -46       -65   \n",
       "1831         0        -3       -15       -24       -34       -45       -64   \n",
       "1832         0        -1       -14       -28       -39       -45       -64   \n",
       "1833         0        -4       -17       -29       -42       -44       -64   \n",
       "1834         0        -2       -13       -25       -36       -31       -47   \n",
       "\n",
       "      Node_X_7  Node_X_8  Node_X_9  ...  Node_Y_12  Node_Y_13  Node_Y_14  \\\n",
       "0           21        17         9  ...        -21        -44        -53   \n",
       "1           16        13         7  ...        -23        -46        -51   \n",
       "2           13        11         3  ...        -23        -42        -48   \n",
       "3           20        18         9  ...        -20        -40        -46   \n",
       "4           18        14         7  ...        -20        -47        -52   \n",
       "...        ...       ...       ...  ...        ...        ...        ...   \n",
       "1830       -78       -89       -48  ...         -1          7         14   \n",
       "1831       -77       -88       -47  ...         -8          4          8   \n",
       "1832       -79       -91       -48  ...        -16          1          2   \n",
       "1833       -77       -89       -46  ...         -9          0          6   \n",
       "1834       -59       -70       -35  ...        -14         -3          0   \n",
       "\n",
       "      Node_Y_15  Node_Y_16  Node_Y_17  Node_Y_18  Node_Y_19  Node_Y_20  Class  \n",
       "0           -29        -13        -39        -48        -33        -21      a  \n",
       "1           -34        -21        -41        -47        -35        -26      a  \n",
       "2           -32        -20        -37        -44        -33        -24      a  \n",
       "3           -29        -15        -35        -42        -31        -21      a  \n",
       "4           -31        -18        -41        -45        -30        -21      a  \n",
       "...         ...        ...        ...        ...        ...        ...    ...  \n",
       "1830         10          6         14         18         14         10      j  \n",
       "1831          4          1         11         11          6          3      j  \n",
       "1832         -1         -3         10          9          4          1      j  \n",
       "1833          4          0          7         11          7          3      j  \n",
       "1834          0          0          4          8          6          3      j  \n",
       "\n",
       "[1835 rows x 43 columns]"
      ]
     },
     "execution_count": 34,
     "metadata": {},
     "output_type": "execute_result"
    }
   ],
   "source": [
    "df_second1"
   ]
  },
  {
   "cell_type": "code",
   "execution_count": 79,
   "metadata": {},
   "outputs": [
    {
     "name": "stdout",
     "output_type": "stream",
     "text": [
      "DTC 0.9564032697547684\n",
      "DTC 1.0\n",
      "DTC 0.9912806539509537\n",
      "rfc 0.9754768392370572\n",
      "rfc 1.0\n",
      "rfc 0.9950953678474115\n",
      "svm 0.9782016348773842\n",
      "svm 0.9754768392370572\n",
      "svm 0.9760217983651226\n",
      "KNN 0.9809264305177112\n",
      "KNN 0.9809264305177112\n",
      "KNN 0.9809264305177112\n"
     ]
    },
    {
     "data": {
      "image/png": "[encoded data removed]",
      "text/plain": [
       "<Figure size 720x720 with 2 Axes>"
      ]
     },
     "metadata": {
      "needs_background": "light"
     },
     "output_type": "display_data"
    }
   ],
   "source": [
    "##---- for complex backgrounds\n",
    "X=df_second1.drop([\"Class\"],axis=\"columns\")\n",
    "Y=df_second1.Class\n",
    "X_train,X_test,Y_train,Y_test=train_test_split(X,Y,test_size=0.2,random_state=1)\n",
    "\n",
    "#DTC\n",
    "model_DTC=DecisionTreeClassifier()\n",
    "model_DTC.fit(X_train,Y_train)\n",
    "print(\"DTC\", model_DTC.score(X_test,Y_test))\n",
    "print(\"DTC\", model_DTC.score(X_train, Y_train))\n",
    "print(\"DTC\", model_DTC.score(X, Y))\n",
    "\n",
    "#RFC\n",
    "model_rfc=RandomForestClassifier()\n",
    "model_rfc.fit(X_train,Y_train)\n",
    "print(\"rfc\",model_rfc.score(X_test,Y_test))\n",
    "print(\"rfc\",model_rfc.score(X_train, Y_train))\n",
    "print(\"rfc\",model_rfc.score(X, Y))\n",
    "\n",
    "#SVM\n",
    "model_svm=svm.SVC(kernel='rbf')\n",
    "model_svm.fit(X_train,Y_train)\n",
    "print(\"svm\",model_svm.score(X_test,Y_test))\n",
    "print(\"svm\",model_svm.score(X_train, Y_train))\n",
    "print(\"svm\",model_svm.score(X, Y))\n",
    "\n",
    "##use different kernels for svm\n",
    "\n",
    "#KNN\n",
    "model_knn=Knn()\n",
    "model_knn.fit(X_train,Y_train)\n",
    "print(\"KNN\", model_knn.score(X_test,Y_test))\n",
    "print(\"KNN\", model_knn.score(X_train, Y_train))\n",
    "print(\"KNN\", model_knn.score(X, Y))\n",
    "\n",
    "\n",
    "\n",
    "# ##Confusion matrix\n",
    "# cm_rfc=confusion_matrix(Y_test, rfc_pred)\n",
    "# cm_DTC=confusion_matrix(Y_test,DTC_pred)\n",
    "# cm_svm=confusion_matrix(Y_test, svm_pred)\n",
    "# cm_knn=confusion_matrix(Y_test, knn_pred)\n",
    "\n",
    "\n",
    "##Confusion Matrix in a picture type format\n",
    "from sklearn.metrics import plot_confusion_matrix\n",
    "fig, ax = plt.subplots(figsize=(10, 10))\n",
    "\n",
    "   #NOTE: HERE THE PLOT SHOULD BE PLOTTED FOR EACH ONE SEPERATELY ELSE IT WILL STACKED\n",
    "# plot_confusion_matrix(model_DTC, X_test, Y_test, ax=ax)  \n",
    "# plt.title(\"DTC\")\n",
    "# fig.savefig('confusion_matrix'+' DTC1'+'.pdf')\n",
    "\n",
    "\n",
    "# plot_confusion_matrix(model_rfc, X_test, Y_test,ax=ax)\n",
    "# plt.title(\"RFC\")\n",
    "# fig.savefig('confusion_matrix'+' RFC1'+'.pdf')\n",
    "\n",
    "\n",
    "# plot_confusion_matrix(model_svm, X_test, Y_test,ax=ax)\n",
    "# plt.title(\"SVM\")\n",
    "# fig.savefig('confusion_matrix'+' SVM1'+'.pdf')\n",
    "\n",
    "\n",
    "plot_confusion_matrix(model_knn, X_test, Y_test,ax=ax) \n",
    "plt.title(\"KNN\")\n",
    "fig.savefig('confusion_matrix'+' KNN1'+'.pdf')"
   ]
  },
  {
   "cell_type": "code",
   "execution_count": 29,
   "metadata": {},
   "outputs": [],
   "source": [
    "##Learning Curves\n",
    "from sklearn.model_selection import learning_curve\n",
    "\n",
    "sizes_knn, training_scores_knn, testing_scores_knn = learning_curve(model_knn, X, Y, cv=10, scoring='accuracy', train_sizes=np.linspace(0.01, 1.0, 50))\n",
    "sizes_DTC, training_scores_DTC, testing_scores_DTC = learning_curve(model_DTC, X, Y, cv=10, scoring='accuracy', train_sizes=np.linspace(0.01, 1.0, 50))\n",
    "sizes_RFC, training_scores_RFC, testing_scores_RFC = learning_curve(model_rfc, X, Y, cv=10, scoring='accuracy', train_sizes=np.linspace(0.01, 1.0, 50))\n"
   ]
  },
  {
   "cell_type": "code",
   "execution_count": 30,
   "metadata": {
    "scrolled": true
   },
   "outputs": [
    {
     "data": {
      "image/png": "[encoded data removed]",
      "text/plain": [
       "<Figure size 432x288 with 1 Axes>"
      ]
     },
     "metadata": {
      "needs_background": "light"
     },
     "output_type": "display_data"
    }
   ],
   "source": [
    "mean_training_knn = np.mean(training_scores_knn, axis=1)\n",
    "Standard_Deviation_training_knn = np.std(training_scores_knn, axis=1)\n",
    "\n",
    "mean_training_DTC = np.mean(training_scores_DTC, axis=1)\n",
    "Standard_Deviation_training_DTC = np.std(training_scores_DTC, axis=1)\n",
    "\n",
    "mean_training_RFC = np.mean(training_scores_RFC, axis=1)\n",
    "Standard_Deviation_training_RFC = np.std(training_scores_RFC, axis=1)\n",
    "  \n",
    "# Mean and Standard Deviation of testing scores\n",
    "mean_testing_knn = np.mean(testing_scores_knn, axis=1)\n",
    "Standard_Deviation_testing_knn = np.std(testing_scores_knn, axis=1)\n",
    "\n",
    "mean_testing_DTC = np.mean(testing_scores_DTC, axis=1)\n",
    "Standard_Deviation_testing_DTC = np.std(testing_scores_DTC, axis=1)\n",
    "\n",
    "mean_testing_RFC = np.mean(testing_scores_RFC, axis=1)\n",
    "Standard_Deviation_testing_RFC = np.std(testing_scores_RFC, axis=1)\n",
    "  \n",
    "# dotted blue line is for training scores and green line is for cross-validation score\n",
    "plt.plot(sizes, mean_training_knn, '--', color=\"b\",  label=\"Training score KNN\")\n",
    "plt.plot(sizes, mean_testing_knn, color=\"b\", label=\"Cross-validation score KNN\")\n",
    "plt.plot(sizes, mean_training_DTC, '--', color=\"g\",  label=\"Training score DTC\")\n",
    "plt.plot(sizes, mean_testing_DTC, color=\"g\", label=\"Cross-validation score DTC\")\n",
    "plt.plot(sizes, mean_training_RFC, '--', color=\"r\",  label=\"Training score RFC\")\n",
    "plt.plot(sizes, mean_testing_RFC, color=\"r\", label=\"Cross-validation score RFC\")\n",
    "  \n",
    "  \n",
    "# Drawing plot\n",
    "# plt.title(\"LEARNING CURVE FOR KNN Classifier\")\n",
    "# plt.xlabel(\"Training Set Size\"), plt.ylabel(\"Accuracy Score\"), plt.legend(loc=\"best\")\n",
    "# plt.tight_layout()\n",
    "# fig.savefig('Learning_Curve'+' KNN1'+'.pdf')\n",
    "\n",
    "plt.title(\"Learning curve for all Classifiers for 26 alphabets on plain background\")\n",
    "plt.xlabel(\"Training Set Size\"), plt.ylabel(\"Accuracy Score\"), plt.legend(loc=\"best\")\n",
    "\n",
    "fig.savefig('Learning_Curve'+' KNN_plain'+'.pdf')"
   ]
  },
  {
   "cell_type": "code",
   "execution_count": 14,
   "metadata": {},
   "outputs": [
    {
     "data": {
      "text/plain": [
       "array([1.        , 1.        , 1.        , 1.        , 1.        ,\n",
       "       1.        , 1.        , 0.9964    , 0.99681979, 0.9971519 ,\n",
       "       0.99742857, 0.99765013, 0.99567308, 0.99377778, 0.99440994,\n",
       "       0.99476744, 0.99509091, 0.99382504, 0.98944805, 0.98861538,\n",
       "       0.98799414, 0.98396095, 0.98493333, 0.98378033, 0.98506732,\n",
       "       0.98564706, 0.98618347, 0.98473282, 0.98536842, 0.98514751,\n",
       "       0.98564405, 0.9852381 , 0.98531856, 0.98567592, 0.98591304,\n",
       "       0.98496622, 0.98660641, 0.98624   , 0.98582555, 0.98504176,\n",
       "       0.98066667, 0.98323699, 0.98193366, 0.9822069 , 0.98200809,\n",
       "       0.98200396, 0.98187097, 0.98188131, 0.98225108, 0.9826166 ])"
      ]
     },
     "execution_count": 14,
     "metadata": {},
     "output_type": "execute_result"
    }
   ],
   "source": [
    "mean_training"
   ]
  },
  {
   "cell_type": "code",
   "execution_count": 68,
   "metadata": {},
   "outputs": [
    {
     "data": {
      "image/png": "[encoded data removed]",
      "text/plain": [
       "<Figure size 1440x1440 with 2 Axes>"
      ]
     },
     "metadata": {
      "needs_background": "light"
     },
     "output_type": "display_data"
    }
   ],
   "source": [
    "##Confusion Matrix\n",
    "import seaborn as sns\n",
    "import matplotlib.pyplot as plt\n",
    "plt.figure(figsize=(20, 20))\n",
    "cm = confusion_matrix(Y_test, model_rfc.predict(X_test))\n",
    "cmn = cm.astype('float') / cm.sum(axis=1)[:, np.newaxis]\n",
    "#fig, cmn = plt.subplots(figsize=(10,10))\n",
    "\n",
    "# ax.set_title('Seaborn Confusion Matrix with labels\\n\\n');\n",
    "# ax.set_xlabel('\\nPredicted Flower Category')\n",
    "# ax.set_ylabel('Actual Flower Category ');\n",
    "\n",
    "# ## Ticket labels - List must be in alphabetical order\n",
    "# ax.xaxis.set_ticklabels(['Setosa','Versicolor', 'Virginia'])\n",
    "# ax.yaxis.set_ticklabels(['Setosa','Versicolor', 'Virginia'])\n",
    "\n",
    "## Display the visualization of the Confusion Matrix.\n",
    "sns.heatmap(cmn, annot=True, fmt='.2f')\n",
    "plt.ylabel('Actual')\n",
    "plt.xlabel('Predicted')\n",
    "\n",
    "plt.savefig(\"Confusion Matrix 26 alphabets DTC\"+\".pdf\")"
   ]
  },
  {
   "cell_type": "code",
   "execution_count": 54,
   "metadata": {},
   "outputs": [
    {
     "data": {
      "text/plain": [
       "<Figure size 432x288 with 0 Axes>"
      ]
     },
     "metadata": {},
     "output_type": "display_data"
    }
   ],
   "source": [
    "\n"
   ]
  },
  {
   "cell_type": "code",
   "execution_count": null,
   "metadata": {},
   "outputs": [],
   "source": []
  },
  {
   "cell_type": "code",
   "execution_count": null,
   "metadata": {},
   "outputs": [],
   "source": []
  },
  {
   "cell_type": "code",
   "execution_count": null,
   "metadata": {},
   "outputs": [],
   "source": []
  },
  {
   "cell_type": "code",
   "execution_count": null,
   "metadata": {},
   "outputs": [],
   "source": []
  },
  {
   "cell_type": "code",
   "execution_count": null,
   "metadata": {},
   "outputs": [],
   "source": []
  },
  {
   "cell_type": "code",
   "execution_count": null,
   "metadata": {},
   "outputs": [],
   "source": []
  },
  {
   "cell_type": "code",
   "execution_count": null,
   "metadata": {},
   "outputs": [],
   "source": []
  },
  {
   "cell_type": "code",
   "execution_count": null,
   "metadata": {},
   "outputs": [],
   "source": []
  },
  {
   "cell_type": "code",
   "execution_count": null,
   "metadata": {},
   "outputs": [],
   "source": []
  },
  {
   "cell_type": "code",
   "execution_count": null,
   "metadata": {},
   "outputs": [],
   "source": []
  },
  {
   "cell_type": "code",
   "execution_count": null,
   "metadata": {},
   "outputs": [],
   "source": []
  },
  {
   "cell_type": "code",
   "execution_count": null,
   "metadata": {},
   "outputs": [],
   "source": [
    "`aaa"
   ]
  },
  {
   "cell_type": "code",
   "execution_count": 15,
   "metadata": {},
   "outputs": [],
   "source": [
    "# X_train,X_test,Y_train,Y_test=train_test_split(X,Y,test_size=0.2,random_state=1)"
   ]
  },
  {
   "cell_type": "code",
   "execution_count": 38,
   "metadata": {},
   "outputs": [],
   "source": [
    "# model_rfc=RandomForestClassifier()\n",
    "# model_rfc.fit(X_train,Y_train)\n",
    "# print(model_rfc.score(X_test,Y_test))\n",
    "# print(model_rfc.score(X_train, Y_train))\n",
    "# print(model_rfc.score(X, Y))"
   ]
  },
  {
   "cell_type": "code",
   "execution_count": 13,
   "metadata": {},
   "outputs": [],
   "source": [
    "# rfc_pred=model_rfc.predict(X_test)"
   ]
  },
  {
   "cell_type": "code",
   "execution_count": 61,
   "metadata": {},
   "outputs": [],
   "source": [
    "from sklearn.metrics import precision_recall_fscore_support\n",
    "\n",
    "from sklearn.metrics import f1_score, precision_score, recall_score"
   ]
  },
  {
   "cell_type": "code",
   "execution_count": 62,
   "metadata": {},
   "outputs": [
    {
     "name": "stdout",
     "output_type": "stream",
     "text": [
      "0.9739735189003795\n",
      "0.9728383815088281\n"
     ]
    },
    {
     "data": {
      "text/plain": [
       "0.9727520435967303"
      ]
     },
     "execution_count": 62,
     "metadata": {},
     "output_type": "execute_result"
    }
   ],
   "source": [
    "#ans=precision_recall_fscore_support(rfc_pred,Y_test)\n",
    "#ans1=f1_score( Y_test,rfc_pred)\n",
    "print(precision_score(Y_test,rfc_pred, average=\"weighted\"))\n",
    "print(f1_score(Y_test,rfc_pred, average=\"weighted\"))\n",
    "recall_score(Y_test,rfc_pred, average=\"weighted\")\n"
   ]
  },
  {
   "cell_type": "code",
   "execution_count": null,
   "metadata": {},
   "outputs": [],
   "source": []
  },
  {
   "cell_type": "code",
   "execution_count": 37,
   "metadata": {},
   "outputs": [],
   "source": [
    "# model_svm=svm.SVC(kernel='rbf')\n",
    "# model_svm.fit(X_train,Y_train)\n",
    "# print(model_svm.score(X_test,Y_test))\n",
    "# print(model_svm.score(X_train, Y_train))\n",
    "# print(model_svm.score(X, Y))"
   ]
  },
  {
   "cell_type": "code",
   "execution_count": 36,
   "metadata": {},
   "outputs": [],
   "source": [
    "# model_svm=svm.SVC(kernel='linear')\n",
    "# model_svm.fit(X_train,Y_train)\n",
    "# print(model_svm.score(X_test,Y_test))\n",
    "# print(model_svm.score(X_train, Y_train))\n",
    "# print(model_svm.score(X, Y))"
   ]
  },
  {
   "cell_type": "code",
   "execution_count": 35,
   "metadata": {},
   "outputs": [],
   "source": [
    "# model_svm=svm.SVC(kernel='poly')\n",
    "# model_svm.fit(X_train,Y_train)\n",
    "# print(model_svm.score(X_test,Y_test))\n",
    "# print(model_svm.score(X_train, Y_train))\n",
    "# print(model_svm.score(X, Y))"
   ]
  },
  {
   "cell_type": "code",
   "execution_count": 34,
   "metadata": {},
   "outputs": [],
   "source": [
    "# model_svm=svm.SVC(kernel='rbf')\n",
    "# model_svm.fit(X_train,Y_train)\n",
    "# print(model_svm.score(X_test,Y_test))\n",
    "# print(model_svm.score(X_train, Y_train))\n",
    "# print(model_svm.score(X, Y))"
   ]
  },
  {
   "cell_type": "code",
   "execution_count": null,
   "metadata": {},
   "outputs": [],
   "source": []
  },
  {
   "cell_type": "code",
   "execution_count": 32,
   "metadata": {},
   "outputs": [],
   "source": [
    "# model_DTC=DecisionTreeClassifier()\n",
    "# model_DTC.fit(X_train,Y_train)\n",
    "# print(model_DTC.score(X_test,Y_test))\n",
    "# print(model_DTC.score(X_train, Y_train))\n",
    "# print(model_DTC.score(X, Y))"
   ]
  },
  {
   "cell_type": "code",
   "execution_count": 47,
   "metadata": {},
   "outputs": [],
   "source": []
  },
  {
   "cell_type": "code",
   "execution_count": 33,
   "metadata": {},
   "outputs": [],
   "source": [
    "# model_knn=Knn()\n",
    "# model_knn.fit(X_train,Y_train)\n",
    "# print(model_knn.score(X_test,Y_test))\n",
    "# print(model_knn.score(X_train, Y_train))\n",
    "# print(model_knn.score(X, Y))"
   ]
  },
  {
   "cell_type": "code",
   "execution_count": null,
   "metadata": {},
   "outputs": [],
   "source": []
  },
  {
   "cell_type": "code",
   "execution_count": 49,
   "metadata": {},
   "outputs": [],
   "source": [
    "# ans=model_DTC.predict(X_test)"
   ]
  },
  {
   "cell_type": "code",
   "execution_count": 50,
   "metadata": {},
   "outputs": [],
   "source": [
    "# fin=list(Y_test)"
   ]
  },
  {
   "cell_type": "code",
   "execution_count": 39,
   "metadata": {},
   "outputs": [],
   "source": [
    "# for i in range(len(ans)):\n",
    "#     if(ans[i]!=fin[i]):\n",
    "#         print(ans[i]+\" \"+fin[i]+\" \"+str(i))"
   ]
  },
  {
   "cell_type": "code",
   "execution_count": 40,
   "metadata": {},
   "outputs": [],
   "source": [
    "# len(ans)"
   ]
  },
  {
   "cell_type": "code",
   "execution_count": 41,
   "metadata": {},
   "outputs": [],
   "source": [
    "# len(Y_test)"
   ]
  },
  {
   "cell_type": "code",
   "execution_count": null,
   "metadata": {},
   "outputs": [],
   "source": []
  },
  {
   "cell_type": "code",
   "execution_count": null,
   "metadata": {},
   "outputs": [],
   "source": []
  },
  {
   "cell_type": "code",
   "execution_count": 31,
   "metadata": {},
   "outputs": [],
   "source": [
    "rfc_pred=model_rfc.predict(X_test)\n",
    "DTC_pred=model_DTC.predict(X_test)\n",
    "svm_pred=model_svm.predict(X_test)\n",
    "knn_pred=model_knn.predict(X_test)"
   ]
  },
  {
   "cell_type": "code",
   "execution_count": null,
   "metadata": {},
   "outputs": [],
   "source": []
  },
  {
   "cell_type": "code",
   "execution_count": 35,
   "metadata": {},
   "outputs": [],
   "source": [
    "# from sklearn.metrics import confusion_matrix\n"
   ]
  },
  {
   "cell_type": "code",
   "execution_count": 48,
   "metadata": {},
   "outputs": [],
   "source": [
    "# knn_pred"
   ]
  },
  {
   "cell_type": "code",
   "execution_count": 42,
   "metadata": {},
   "outputs": [],
   "source": [
    "# count=1\n",
    "# for i in range(367):\n",
    "    \n",
    "#         if( knn_pred[i]!=svm_pred[i]):\n",
    "#             print(knn_pred[i],svm_pred[i])\n",
    "      \n",
    "#             count+=1\n",
    "# print(count)"
   ]
  },
  {
   "cell_type": "code",
   "execution_count": 43,
   "metadata": {},
   "outputs": [],
   "source": [
    "# Y_test"
   ]
  },
  {
   "cell_type": "code",
   "execution_count": 44,
   "metadata": {},
   "outputs": [],
   "source": [
    "# len(knn_pred)"
   ]
  },
  {
   "cell_type": "code",
   "execution_count": 45,
   "metadata": {},
   "outputs": [],
   "source": [
    "# len(svm_pred)"
   ]
  },
  {
   "cell_type": "markdown",
   "metadata": {},
   "source": []
  },
  {
   "cell_type": "code",
   "execution_count": 46,
   "metadata": {},
   "outputs": [],
   "source": [
    "# cm_knn"
   ]
  },
  {
   "cell_type": "code",
   "execution_count": 47,
   "metadata": {},
   "outputs": [],
   "source": [
    "# cm_svm"
   ]
  },
  {
   "cell_type": "code",
   "execution_count": 42,
   "metadata": {},
   "outputs": [],
   "source": [
    "# cm_rfc=confusion_matrix(Y_test, rfc_pred)\n",
    "# cm_DTC=confusion_matrix(Y_test,DTC_pred)\n",
    "# cm_svm=confusion_matrix(Y_test, svm_pred)\n",
    "# cm_knn=confusion_matrix(Y_test, knn_pred)"
   ]
  },
  {
   "cell_type": "code",
   "execution_count": 49,
   "metadata": {},
   "outputs": [],
   "source": [
    "# cm_DTC"
   ]
  },
  {
   "cell_type": "code",
   "execution_count": 27,
   "metadata": {},
   "outputs": [],
   "source": [
    "##-----------------------------------K Fold Cross Validation------------------------------------##\n",
    "from sklearn.model_selection import KFold\n",
    "kf=KFold(n_splits=4)"
   ]
  },
  {
   "cell_type": "code",
   "execution_count": 24,
   "metadata": {},
   "outputs": [
    {
     "data": {
      "text/plain": [
       "KFold(n_splits=10, random_state=None, shuffle=False)"
      ]
     },
     "execution_count": 24,
     "metadata": {},
     "output_type": "execute_result"
    }
   ],
   "source": [
    "kf"
   ]
  },
  {
   "cell_type": "code",
   "execution_count": 30,
   "metadata": {},
   "outputs": [],
   "source": [
    "def get_score(model, X_train, Y_train, X_test, Y_test):\n",
    "    model.fit(X_train, Y_train)\n",
    "    return model.score(X_test, Y_test)"
   ]
  },
  {
   "cell_type": "code",
   "execution_count": 31,
   "metadata": {},
   "outputs": [
    {
     "data": {
      "text/plain": [
       "0.9782016348773842"
      ]
     },
     "execution_count": 31,
     "metadata": {},
     "output_type": "execute_result"
    }
   ],
   "source": [
    "get_score(model_svm,X_train,Y_train,X_test, Y_test)"
   ]
  },
  {
   "cell_type": "code",
   "execution_count": 95,
   "metadata": {},
   "outputs": [
    {
     "data": {
      "text/plain": [
       "KNeighborsClassifier(n_neighbors=1)"
      ]
     },
     "execution_count": 95,
     "metadata": {},
     "output_type": "execute_result"
    }
   ],
   "source": [
    "model_knn1=Knn(n_neighbors=1)\n",
    "model_knn1.fit(X_train,Y_train)"
   ]
  },
  {
   "cell_type": "code",
   "execution_count": 44,
   "metadata": {},
   "outputs": [],
   "source": [
    "from sklearn.model_selection import StratifiedKFold"
   ]
  },
  {
   "cell_type": "code",
   "execution_count": 52,
   "metadata": {},
   "outputs": [],
   "source": [
    "Folds=StratifiedKFold(n_splits=10)"
   ]
  },
  {
   "cell_type": "code",
   "execution_count": 94,
   "metadata": {},
   "outputs": [],
   "source": [
    "from sklearn.model_selection import cross_val_score"
   ]
  },
  {
   "cell_type": "code",
   "execution_count": 98,
   "metadata": {},
   "outputs": [
    {
     "data": {
      "text/plain": [
       "0.973297002"
      ]
     },
     "execution_count": 98,
     "metadata": {},
     "output_type": "execute_result"
    }
   ],
   "source": [
    "(0.98910082+ 0.97820163+ 0.9400545 + 0.98092643+ 0.97820163)/5"
   ]
  },
  {
   "cell_type": "code",
   "execution_count": 96,
   "metadata": {},
   "outputs": [
    {
     "data": {
      "text/plain": [
       "array([0.98910082, 0.97820163, 0.9400545 , 0.98092643, 0.97820163])"
      ]
     },
     "execution_count": 96,
     "metadata": {},
     "output_type": "execute_result"
    }
   ],
   "source": [
    "cross_val_score(model_knn1,X,Y)"
   ]
  },
  {
   "cell_type": "code",
   "execution_count": 87,
   "metadata": {},
   "outputs": [
    {
     "data": {
      "text/plain": [
       "array([0.9778481 , 0.98730159, 0.98412698, 0.97460317, 0.96507937])"
      ]
     },
     "execution_count": 87,
     "metadata": {},
     "output_type": "execute_result"
    }
   ],
   "source": [
    "cross_val_score(model_knn,X_train,Y_train)"
   ]
  },
  {
   "cell_type": "code",
   "execution_count": 86,
   "metadata": {},
   "outputs": [
    {
     "data": {
      "text/plain": [
       "array([0.93147208, 0.98730964, 0.98984772, 0.98984772, 0.95939086])"
      ]
     },
     "execution_count": 86,
     "metadata": {},
     "output_type": "execute_result"
    }
   ],
   "source": [
    "cross_val_score(model_rfc,X,Y)"
   ]
  },
  {
   "cell_type": "code",
   "execution_count": 57,
   "metadata": {},
   "outputs": [
    {
     "data": {
      "text/plain": [
       "array([0.95177665, 0.96192893, 0.94923858, 0.95685279, 0.93654822])"
      ]
     },
     "execution_count": 57,
     "metadata": {},
     "output_type": "execute_result"
    }
   ],
   "source": [
    "cross_val_score(model_svm,X,Y)"
   ]
  },
  {
   "cell_type": "code",
   "execution_count": 58,
   "metadata": {},
   "outputs": [],
   "source": [
    "knn=(0.98637602+0.97002725+ 0.93188011+ 0.96730245+ 0.95912807)/5"
   ]
  },
  {
   "cell_type": "code",
   "execution_count": 61,
   "metadata": {},
   "outputs": [],
   "source": [
    "svm=(0.98365123+0.97820163+0.93188011+0.98365123+0.96185286)/5"
   ]
  },
  {
   "cell_type": "code",
   "execution_count": 63,
   "metadata": {},
   "outputs": [],
   "source": [
    "dtc=(0.91008174+0.94277929+0.85286104+0.92915531+0.89645777)/5"
   ]
  },
  {
   "cell_type": "code",
   "execution_count": 51,
   "metadata": {},
   "outputs": [
    {
     "ename": "NameError",
     "evalue": "name 'dtc' is not defined",
     "output_type": "error",
     "traceback": [
      "\u001b[1;31m---------------------------------------------------------------------------\u001b[0m",
      "\u001b[1;31mNameError\u001b[0m                                 Traceback (most recent call last)",
      "\u001b[1;32m<ipython-input-51-d308af0be6a5>\u001b[0m in \u001b[0;36m<module>\u001b[1;34m\u001b[0m\n\u001b[1;32m----> 1\u001b[1;33m \u001b[0mprint\u001b[0m\u001b[1;33m(\u001b[0m\u001b[0mdtc\u001b[0m\u001b[1;33m,\u001b[0m \u001b[0mrfc\u001b[0m\u001b[1;33m,\u001b[0m \u001b[0msvm\u001b[0m\u001b[1;33m,\u001b[0m \u001b[0mknn\u001b[0m\u001b[1;33m)\u001b[0m\u001b[1;33m\u001b[0m\u001b[1;33m\u001b[0m\u001b[0m\n\u001b[0m",
      "\u001b[1;31mNameError\u001b[0m: name 'dtc' is not defined"
     ]
    }
   ],
   "source": [
    "print(dtc, rfc, svm, knn)"
   ]
  },
  {
   "cell_type": "code",
   "execution_count": 66,
   "metadata": {},
   "outputs": [],
   "source": [
    "rfc=(0.98092643+0.97820163+0.91008174+0.96457766+0.9373297)/5"
   ]
  },
  {
   "cell_type": "code",
   "execution_count": 34,
   "metadata": {},
   "outputs": [
    {
     "data": {
      "text/plain": [
       "367"
      ]
     },
     "execution_count": 34,
     "metadata": {},
     "output_type": "execute_result"
    }
   ],
   "source": [
    "len(DTC_pred)"
   ]
  },
  {
   "cell_type": "code",
   "execution_count": null,
   "metadata": {},
   "outputs": [],
   "source": []
  },
  {
   "cell_type": "code",
   "execution_count": null,
   "metadata": {},
   "outputs": [],
   "source": []
  },
  {
   "cell_type": "code",
   "execution_count": null,
   "metadata": {},
   "outputs": [],
   "source": []
  },
  {
   "cell_type": "code",
   "execution_count": null,
   "metadata": {},
   "outputs": [],
   "source": []
  },
  {
   "cell_type": "code",
   "execution_count": null,
   "metadata": {},
   "outputs": [],
   "source": []
  },
  {
   "cell_type": "code",
   "execution_count": 59,
   "metadata": {},
   "outputs": [],
   "source": [
    "##----------------------Calculating the precision, recall and F1_score-------------------------------------------------------##\n",
    "def fun1(cm):\n",
    "    TP = np.diag(cm)\n",
    "    FP = np.sum(cm, axis=0) - TP\n",
    "    FN = np.sum(cm, axis=1) - TP\n",
    "    precision = TP/(TP+FP)\n",
    "    recall = TP/(TP+FN)\n",
    "    f1_score=2*(precision*recall)/(precision+recall)\n",
    "    print(precision)\n",
    "    print(recall)\n",
    "    print(f1_score)\n"
   ]
  },
  {
   "cell_type": "code",
   "execution_count": 60,
   "metadata": {},
   "outputs": [],
   "source": [
    "import numpy as np"
   ]
  },
  {
   "cell_type": "code",
   "execution_count": 61,
   "metadata": {},
   "outputs": [],
   "source": [
    "TP = np.diag(cm_rfc)\n",
    "FP = np.sum(cm_rfc, axis=0) - TP"
   ]
  },
  {
   "cell_type": "code",
   "execution_count": 62,
   "metadata": {},
   "outputs": [
    {
     "data": {
      "text/plain": [
       "array([0, 0, 0, 0, 0, 0, 1, 0, 0, 0, 0, 0, 0, 0, 0, 3, 0, 1, 0, 0, 0, 5,\n",
       "       0, 1, 0, 0], dtype=int64)"
      ]
     },
     "execution_count": 62,
     "metadata": {},
     "output_type": "execute_result"
    }
   ],
   "source": [
    "FP"
   ]
  },
  {
   "cell_type": "code",
   "execution_count": 63,
   "metadata": {
    "scrolled": true
   },
   "outputs": [
    {
     "data": {
      "text/plain": [
       "26"
      ]
     },
     "execution_count": 63,
     "metadata": {},
     "output_type": "execute_result"
    }
   ],
   "source": [
    "len(TP)"
   ]
  },
  {
   "cell_type": "code",
   "execution_count": 64,
   "metadata": {},
   "outputs": [
    {
     "name": "stdout",
     "output_type": "stream",
     "text": [
      "[1.         1.         1.         1.         1.         1.\n",
      " 0.94444444 1.         1.         1.         1.         1.\n",
      " 1.         1.         1.         0.82352941 1.         0.88888889\n",
      " 1.         1.         1.         0.81481481 1.         0.88888889\n",
      " 1.         1.        ]\n",
      "[1.         1.         1.         1.         1.         1.\n",
      " 1.         0.95652174 1.         1.         1.         1.\n",
      " 1.         1.         1.         1.         0.625      0.88888889\n",
      " 1.         1.         0.66666667 0.95652174 0.95454545 1.\n",
      " 1.         1.        ]\n",
      "[1.         1.         1.         1.         1.         1.\n",
      " 0.97142857 0.97777778 1.         1.         1.         1.\n",
      " 1.         1.         1.         0.90322581 0.76923077 0.88888889\n",
      " 1.         1.         0.8        0.88       0.97674419 0.94117647\n",
      " 1.         1.        ]\n"
     ]
    }
   ],
   "source": [
    "fun1(cm_rfc)"
   ]
  },
  {
   "cell_type": "code",
   "execution_count": 65,
   "metadata": {},
   "outputs": [
    {
     "data": {
      "text/plain": [
       "'[0.97297297 0.97777778 1.         0.97368421 0.97297297 1.\\n 1.         0.97727273 0.90625    1.        ]\\n[0.97297297 0.97777778 0.97297297 0.97368421 1.         0.90322581\\n 0.97297297 1.         1.         1.        ]\\n[0.97297297 0.97777778 0.98630137 0.97368421 0.98630137 0.94915254\\n 0.98630137 0.98850575 0.95081967 1.        ]'"
      ]
     },
     "execution_count": 65,
     "metadata": {},
     "output_type": "execute_result"
    }
   ],
   "source": [
    "#RFC\n",
    "\"\"\"[0.97368421 0.97777778 1.         0.97368421 0.97222222 1.\n",
    " 1.         1.         0.875      1.        ]\n",
    "[1.         0.97777778 1.         0.97368421 0.97222222 0.90322581\n",
    " 0.97297297 1.         0.96551724 1.        ]\n",
    "[0.98666667 0.97777778 1.         0.97368421 0.97222222 0.94915254\n",
    " 0.98630137 1.         0.91803279 1.        ]\"\"\"\n",
    "\n",
    "#DTC:\n",
    "\"\"\"[0.94444444 0.97727273 0.925      0.925      0.91428571 0.96296296\n",
    " 0.97297297 1.         0.         0.86666667 0.97142857]\n",
    "[0.91891892 0.95555556 1.         0.97368421 0.88888889 0.83870968\n",
    " 0.97297297 0.93023256        nan 0.89655172 1.        ]\n",
    "[0.93150685 0.96629213 0.96103896 0.94871795 0.90140845 0.89655172\n",
    " 0.97297297 0.96385542        nan 0.88135593 0.98550725]\"\"\"\n",
    "\n",
    "#KNN:\n",
    "\"\"\"[0.97368421 1.         1.         1.         0.97297297 1.\n",
    " 0.97368421 1.         0.87878788 1.        ]\n",
    "[1.         0.97777778 1.         0.97368421 1.         0.83870968\n",
    " 1.         1.         1.         1.        ]\n",
    "[0.98666667 0.98876404 1.         0.98666667 0.98630137 0.9122807\n",
    " 0.98666667 1.         0.93548387 1.        ]\"\"\"\n",
    "\n",
    "#SVM\n",
    "\"\"\"[0.97297297 0.97777778 1.         0.97368421 0.97297297 1.\n",
    " 1.         0.97727273 0.90625    1.        ]\n",
    "[0.97297297 0.97777778 0.97297297 0.97368421 1.         0.90322581\n",
    " 0.97297297 1.         1.         1.        ]\n",
    "[0.97297297 0.97777778 0.98630137 0.97368421 0.98630137 0.94915254\n",
    " 0.98630137 0.98850575 0.95081967 1.        ]\"\"\"\n"
   ]
  },
  {
   "cell_type": "code",
   "execution_count": 66,
   "metadata": {},
   "outputs": [
    {
     "data": {
      "text/plain": [
       "394"
      ]
     },
     "execution_count": 66,
     "metadata": {},
     "output_type": "execute_result"
    }
   ],
   "source": [
    "len(DTC_pred)"
   ]
  },
  {
   "cell_type": "code",
   "execution_count": 52,
   "metadata": {},
   "outputs": [],
   "source": [
    "# fun1(cm_rfc)"
   ]
  },
  {
   "cell_type": "code",
   "execution_count": 53,
   "metadata": {},
   "outputs": [],
   "source": [
    "# fun1(cm_DTC)"
   ]
  },
  {
   "cell_type": "code",
   "execution_count": 54,
   "metadata": {},
   "outputs": [],
   "source": [
    "# fun1(cm_knn)"
   ]
  },
  {
   "cell_type": "code",
   "execution_count": 55,
   "metadata": {},
   "outputs": [],
   "source": [
    "# fun1(cm_svm)"
   ]
  },
  {
   "cell_type": "code",
   "execution_count": 71,
   "metadata": {},
   "outputs": [
    {
     "data": {
      "text/plain": [
       "array([[15,  0,  0,  0,  0,  0,  0,  0,  0,  0,  0,  0,  0,  0,  0,  0,\n",
       "         0,  0,  0,  0,  0,  0,  0,  0,  0,  0],\n",
       "       [ 0, 18,  0,  0,  0,  0,  0,  0,  0,  0,  0,  0,  0,  0,  0,  0,\n",
       "         0,  0,  0,  0,  0,  0,  0,  0,  0,  0],\n",
       "       [ 0,  0, 16,  0,  0,  0,  0,  0,  0,  0,  0,  0,  0,  0,  0,  0,\n",
       "         0,  0,  0,  0,  0,  0,  0,  0,  0,  0],\n",
       "       [ 0,  0,  1, 17,  0,  0,  0,  0,  0,  0,  0,  0,  0,  0,  0,  0,\n",
       "         0,  0,  0,  0,  0,  0,  0,  0,  0,  0],\n",
       "       [ 0,  0,  0,  0, 22,  0,  0,  0,  0,  0,  0,  0,  0,  0,  0,  0,\n",
       "         0,  0,  0,  0,  0,  0,  0,  0,  0,  0],\n",
       "       [ 0,  0,  0,  0,  0,  5,  0,  0,  0,  0,  0,  0,  0,  0,  0,  0,\n",
       "         0,  0,  0,  0,  0,  0,  0,  0,  0,  0],\n",
       "       [ 0,  0,  0,  0,  0,  0, 17,  0,  0,  0,  0,  0,  0,  0,  0,  0,\n",
       "         0,  0,  0,  0,  0,  0,  0,  0,  0,  0],\n",
       "       [ 0,  0,  0,  0,  0,  0,  0, 23,  0,  0,  0,  0,  0,  0,  0,  0,\n",
       "         0,  0,  0,  0,  0,  0,  0,  0,  0,  0],\n",
       "       [ 0,  0,  0,  0,  0,  0,  0,  0, 15,  0,  0,  0,  0,  0,  0,  0,\n",
       "         0,  0,  0,  0,  0,  0,  0,  0,  0,  0],\n",
       "       [ 0,  0,  0,  0,  0,  0,  0,  0,  0, 16,  0,  0,  0,  0,  0,  0,\n",
       "         0,  0,  0,  0,  0,  0,  0,  0,  0,  0],\n",
       "       [ 0,  0,  0,  0,  0,  0,  0,  0,  0,  0, 15,  0,  0,  0,  0,  0,\n",
       "         0,  0,  0,  0,  0,  0,  0,  0,  0,  0],\n",
       "       [ 0,  0,  0,  0,  0,  0,  0,  0,  0,  0,  0, 23,  0,  0,  0,  0,\n",
       "         0,  0,  0,  0,  0,  0,  0,  0,  0,  0],\n",
       "       [ 0,  0,  0,  0,  0,  0,  0,  0,  0,  0,  0,  0,  1,  0,  0,  0,\n",
       "         0,  0,  0,  0,  0,  0,  0,  0,  0,  0],\n",
       "       [ 0,  0,  0,  0,  0,  0,  0,  0,  0,  0,  0,  0,  0, 16,  0,  0,\n",
       "         0,  0,  0,  0,  0,  0,  0,  0,  0,  0],\n",
       "       [ 0,  0,  0,  0,  0,  0,  0,  0,  0,  0,  0,  0,  0,  0, 16,  0,\n",
       "         0,  0,  0,  0,  0,  0,  0,  0,  0,  0],\n",
       "       [ 0,  0,  0,  0,  0,  0,  0,  0,  0,  0,  0,  0,  0,  0,  0, 14,\n",
       "         0,  0,  0,  0,  0,  0,  0,  0,  0,  0],\n",
       "       [ 0,  0,  0,  0,  0,  0,  0,  0,  0,  0,  0,  0,  0,  0,  0,  3,\n",
       "         5,  0,  0,  0,  0,  0,  0,  0,  0,  0],\n",
       "       [ 0,  0,  0,  0,  0,  0,  0,  0,  0,  0,  0,  0,  0,  0,  0,  0,\n",
       "         0,  8,  0,  0,  0,  1,  0,  0,  0,  0],\n",
       "       [ 0,  0,  0,  0,  0,  0,  0,  0,  0,  0,  0,  0,  0,  0,  0,  0,\n",
       "         0,  0, 15,  0,  0,  0,  0,  0,  0,  0],\n",
       "       [ 0,  0,  1,  0,  0,  0,  0,  0,  0,  0,  0,  0,  0,  0,  0,  0,\n",
       "         0,  0,  0,  8,  0,  0,  0,  0,  0,  0],\n",
       "       [ 0,  0,  0,  0,  0,  0,  0,  0,  0,  0,  7,  0,  0,  0,  0,  0,\n",
       "         0,  1,  0,  0,  0,  4,  0,  0,  0,  0],\n",
       "       [ 0,  0,  0,  0,  0,  0,  0,  0,  0,  0,  4,  0,  0,  0,  0,  0,\n",
       "         0,  1,  0,  0,  0, 18,  0,  0,  0,  0],\n",
       "       [ 0,  0,  0,  0,  0,  0,  0,  0,  0,  0,  0,  0,  0,  0,  0,  0,\n",
       "         0,  0,  0,  0,  0,  0, 22,  0,  0,  0],\n",
       "       [ 0,  0,  0,  0,  0,  0,  0,  0,  0,  0,  0,  0,  0,  0,  0,  0,\n",
       "         0,  0,  0,  0,  0,  0,  0,  8,  0,  0],\n",
       "       [ 0,  0,  0,  0,  0,  0,  0,  0,  0,  0,  0,  0,  0,  0,  0,  0,\n",
       "         0,  0,  0,  0,  0,  0,  0,  0, 21,  0],\n",
       "       [ 0,  0,  0,  0,  0,  0,  0,  0,  0,  0,  0,  0,  0,  0,  0,  0,\n",
       "         0,  0,  0,  0,  0,  0,  0,  0,  0, 17]], dtype=int64)"
      ]
     },
     "execution_count": 71,
     "metadata": {},
     "output_type": "execute_result"
    }
   ],
   "source": [
    "cm_svm"
   ]
  },
  {
   "cell_type": "code",
   "execution_count": 88,
   "metadata": {},
   "outputs": [
    {
     "data": {
      "text/plain": [
       "array([[13, 24,  0,  0,  0,  0,  0,  0,  0,  0],\n",
       "       [33, 12,  0,  0,  0,  0,  0,  0,  0,  0],\n",
       "       [ 4, 22, 11,  0,  0,  0,  0,  0,  0,  0],\n",
       "       [14, 23,  0,  1,  0,  0,  0,  0,  0,  0],\n",
       "       [ 0, 19,  0,  0, 12,  0,  5,  0,  0,  0],\n",
       "       [ 0,  0,  0,  0,  3,  0, 10,  0, 15,  3],\n",
       "       [10,  2,  3,  0,  6,  0, 15,  0,  1,  0],\n",
       "       [ 5, 25,  0,  0,  0,  0,  0, 13,  0,  0],\n",
       "       [ 0,  0,  0,  0,  2,  0,  6,  0, 15,  6],\n",
       "       [ 0,  0,  0,  0,  0,  0,  0,  0,  5, 29]], dtype=int64)"
      ]
     },
     "execution_count": 88,
     "metadata": {},
     "output_type": "execute_result"
    }
   ],
   "source": [
    "cm_svm"
   ]
  },
  {
   "cell_type": "code",
   "execution_count": 82,
   "metadata": {},
   "outputs": [
    {
     "data": {
      "image/png": "[encoded data removed]",
      "text/plain": [
       "<Figure size 720x720 with 2 Axes>"
      ]
     },
     "metadata": {
      "needs_background": "light"
     },
     "output_type": "display_data"
    }
   ],
   "source": [
    "from sklearn.metrics import plot_confusion_matrix\n",
    "fig, ax = plt.subplots(figsize=(10, 10))\n",
    "# plot_confusion_matrix(model_DTC, X_test, Y_test, ax=ax)  \n",
    "# plt.title(\"DTC\")\n",
    "# plot_confusion_matrix(model_rfc, X_test, Y_test,ax=ax)\n",
    "# plt.title(\"RFC\")\n",
    "# plot_confusion_matrix(model_svm, X_test, Y_test,ax=ax)\n",
    "# plt.title(\"SVM\")\n",
    "plot_confusion_matrix(model_knn, X_test, Y_test,ax=ax) \n",
    "plt.title(\"KNN\")\n",
    "fig.savefig('confusion_matrix'+' KNN'+'.pdf')"
   ]
  },
  {
   "cell_type": "code",
   "execution_count": 81,
   "metadata": {},
   "outputs": [
    {
     "data": {
      "image/png": "[encoded data removed]",
      "text/plain": [
       "<Figure size 720x720 with 2 Axes>"
      ]
     },
     "metadata": {
      "needs_background": "light"
     },
     "output_type": "display_data"
    }
   ],
   "source": [
    "fig, ax = plt.subplots(figsize=(10, 10))\n",
    "plot_confusion_matrix(model_DTC, X_test, Y_test, ax=ax)  \n",
    "plt.title(\"DTC\")\n",
    "fig.savefig('confusion_matrix'+' DTC'+'.pdf')"
   ]
  },
  {
   "cell_type": "code",
   "execution_count": 80,
   "metadata": {},
   "outputs": [
    {
     "data": {
      "image/png": "[encoded data removed]",
      "text/plain": [
       "<Figure size 720x720 with 2 Axes>"
      ]
     },
     "metadata": {
      "needs_background": "light"
     },
     "output_type": "display_data"
    }
   ],
   "source": [
    "fig, ax = plt.subplots(figsize=(10, 10))\n",
    "plot_confusion_matrix(model_rfc, X_test, Y_test,ax=ax)\n",
    "plt.title(\"RFC\")\n",
    "fig.savefig('confusion_matrix'+' RFC'+'.pdf')"
   ]
  },
  {
   "cell_type": "code",
   "execution_count": 79,
   "metadata": {},
   "outputs": [
    {
     "data": {
      "image/png": "[encoded data removed]",
      "text/plain": [
       "<Figure size 720x720 with 2 Axes>"
      ]
     },
     "metadata": {
      "needs_background": "light"
     },
     "output_type": "display_data"
    }
   ],
   "source": [
    "fig, ax = plt.subplots(figsize=(10, 10))\n",
    "plot_confusion_matrix(model_svm, X_test, Y_test,ax=ax)\n",
    "plt.title(\"SVM\")\n",
    "#plt.title(\"RFC\")\n",
    "fig.savefig('confusion_matrix'+' SVM'+'.pdf')"
   ]
  },
  {
   "cell_type": "code",
   "execution_count": null,
   "metadata": {},
   "outputs": [],
   "source": []
  },
  {
   "cell_type": "code",
   "execution_count": null,
   "metadata": {},
   "outputs": [],
   "source": []
  },
  {
   "cell_type": "code",
   "execution_count": null,
   "metadata": {},
   "outputs": [],
   "source": []
  },
  {
   "cell_type": "code",
   "execution_count": 21,
   "metadata": {},
   "outputs": [],
   "source": [
    "import joblib"
   ]
  },
  {
   "cell_type": "code",
   "execution_count": 31,
   "metadata": {},
   "outputs": [
    {
     "data": {
      "text/plain": [
       "['DTC_joblib']"
      ]
     },
     "execution_count": 31,
     "metadata": {},
     "output_type": "execute_result"
    }
   ],
   "source": [
    "joblib.dump(model_svm,\"Svm_joblib\")\n",
    "joblib.dump(model_rfc,\"rfc_joblib\")\n",
    "joblib.dump(model_knn,\"knn_joblib\")\n",
    "joblib.dump(model_DTC,\"DTC_joblib\")"
   ]
  },
  {
   "cell_type": "code",
   "execution_count": 23,
   "metadata": {},
   "outputs": [],
   "source": [
    "brain=joblib.load(\"Svm_joblib\")\n",
    "brain2=joblib.load(\"rfc_joblib\")\n"
   ]
  },
  {
   "cell_type": "code",
   "execution_count": 25,
   "metadata": {},
   "outputs": [
    {
     "name": "stdout",
     "output_type": "stream",
     "text": [
      "['c ' 'g ' 'h ' 'a ' 'j ' 'g ' 'd ' 'a ' 'b ' 'i ' 'c ' 'i ' 'a ' 'i '\n",
      " 'i ' 'j ' 'e ' 'c ' 'h ' 'b ' 'b ' 'd ' 'b ' 'j ' 'h ' 'b ' 'c ' 'h '\n",
      " 'f ' 'b ' 'b ' 'h ' 'i ' 'c ' 'g ' 'h ' 'a ' 'f ' 'f ' 'g ' 'c ' 'g '\n",
      " 'g ' 'a ' 'e ' 'a ' 'e ' 'h ' 'd ' 'g ' 'h ' 'd ' 'e ' 'i ' 'h ' 'g '\n",
      " 'e ' 'j ' 'b ' 'g ' 'g ' 'h ' 'a ' 'j ' 'g ' 'f ' 'g ' 'g ' 'b ' 'h '\n",
      " 'g ' 'b ' 'a ' 'c ' 'i ' 'c ' 'd ' 'd ' 'd ' 'i ' 'i ' 'd ' 'f ' 'g '\n",
      " 'f ' 'b ' 'i ' 'j ' 'e ' 'd ' 'h ' 'j ' 'd ' 'b ' 'c ' 'f ' 'e ' 'a '\n",
      " 'h ' 'b ' 'f ' 'a ' 'h ' 'd ' 'j ' 'e ' 'c ' 'e ' 'g ' 'i ' 'f ' 'c '\n",
      " 'f ' 'c ' 'f ' 'd ' 'e ' 'b ' 'c ' 'b ' 'g ' 'b ' 'e ' 'd ' 'b ' 'i '\n",
      " 'j ' 'b ' 'i ' 'a ' 'd ' 'j ' 'e ' 'h ' 'i ' 'i ' 'i ' 'b ' 'i ' 'c '\n",
      " 'c ' 'h ' 'i ' 'b ' 'c ' 'h ' 'd ' 'h ' 'e ' 'a ' 'e ' 'd ' 'h ' 'f '\n",
      " 'e ' 'b ' 'c ' 'f ' 'c ' 'd ' 'a ' 'j ' 'b ' 'e ' 'a ' 'f ' 'e ' 'h '\n",
      " 'f ' 'a ' 'd ' 'i ' 'b ' 'b ' 'd ' 'e ' 'i ' 'f ' 'e ' 'c ' 'g ' 'a '\n",
      " 'h ' 'd ' 'a ' 'h ' 'e ' 'c ' 'g ' 'i ' 'd ' 'i ' 'f ' 'g ' 'j ' 'h '\n",
      " 'e ' 'h ' 'j ' 'c ' 'b ' 'd ' 'g ' 'c ' 'a ' 'g ' 'i ' 'c ' 'a ' 'd '\n",
      " 'i ' 'd ' 'j ' 'i ' 'd ' 'j ' 'g ' 'h ' 'h ' 'a ' 'f ' 'c ' 'e ' 'b '\n",
      " 'g ' 'c ' 'e ' 'j ' 'b ' 'j ' 'a ' 'i ' 'b ' 'b ' 'a ' 'h ' 'g ' 'c '\n",
      " 'a ' 'a ' 'j ' 'e ' 'h ' 'c ' 'd ' 'c ' 'a ' 'c ' 'e ' 'h ' 'b ' 'h '\n",
      " 'h ' 'd ' 'b ' 'j ' 'd ' 'a ' 'g ' 'j ' 'b ' 'b ' 'j ' 'b ' 'c ' 'h '\n",
      " 'g ' 'c ' 'h ' 'i ' 'h ' 'i ' 'g ' 'd ' 'j ' 'c ' 'g ' 'g ' 'a ' 'e '\n",
      " 'j ' 'h ' 'j ' 'g ' 'b ' 'c ' 'f ' 'i ' 'c ' 'h ' 'c ' 'e ' 'g ' 'j '\n",
      " 'a ' 'd ' 'a ' 'h ' 'e ' 'a ' 'g ' 'b ' 'h ' 'a ' 'b ' 'g ' 'f ' 'd '\n",
      " 'f ' 'f ' 'b ' 'b ' 'i ' 'a ' 'i ' 'e ' 'f ' 'f ' 'f ' 'd ' 'g ' 'd '\n",
      " 'a ' 'b ' 'h ' 'j ' 'a ' 'd ' 'a ' 'j ' 'e ' 'e ' 'j ' 'h ' 'd ' 'g '\n",
      " 'd ' 'f ' 'f ' 'h ' 'j ' 'j ' 'b ' 'e ' 'i ' 'b ' 'j ' 'h ' 'j ' 'e '\n",
      " 'h ' 'b ' 'b ' 'c ' 'j ' 'j ' 'a ' 'e ' 'a ' 'e ' 'h ' 'd ' 'b ' 'e '\n",
      " 'e ' 'd ' 'f ']\n"
     ]
    },
    {
     "data": {
      "text/plain": [
       "array(['c ', 'g ', 'h ', 'a ', 'j ', 'g ', 'd ', 'a ', 'b ', 'i ', 'c ',\n",
       "       'i ', 'a ', 'i ', 'i ', 'j ', 'e ', 'c ', 'h ', 'b ', 'b ', 'd ',\n",
       "       'b ', 'j ', 'h ', 'b ', 'c ', 'h ', 'f ', 'b ', 'b ', 'h ', 'i ',\n",
       "       'c ', 'g ', 'a ', 'a ', 'f ', 'f ', 'g ', 'c ', 'g ', 'g ', 'a ',\n",
       "       'e ', 'a ', 'e ', 'h ', 'd ', 'g ', 'h ', 'd ', 'e ', 'i ', 'h ',\n",
       "       'g ', 'e ', 'j ', 'b ', 'g ', 'g ', 'h ', 'a ', 'j ', 'g ', 'f ',\n",
       "       'g ', 'g ', 'b ', 'h ', 'g ', 'b ', 'a ', 'c ', 'i ', 'c ', 'd ',\n",
       "       'd ', 'd ', 'i ', 'i ', 'd ', 'f ', 'g ', 'f ', 'b ', 'i ', 'j ',\n",
       "       'e ', 'd ', 'h ', 'j ', 'd ', 'b ', 'c ', 'i ', 'e ', 'a ', 'h ',\n",
       "       'b ', 'f ', 'a ', 'h ', 'd ', 'j ', 'e ', 'c ', 'e ', 'g ', 'i ',\n",
       "       'f ', 'c ', 'f ', 'c ', 'f ', 'd ', 'e ', 'b ', 'c ', 'b ', 'g ',\n",
       "       'b ', 'e ', 'd ', 'b ', 'i ', 'j ', 'b ', 'i ', 'a ', 'd ', 'j ',\n",
       "       'e ', 'h ', 'i ', 'i ', 'i ', 'b ', 'e ', 'c ', 'c ', 'h ', 'i ',\n",
       "       'b ', 'c ', 'h ', 'd ', 'h ', 'e ', 'a ', 'e ', 'd ', 'h ', 'f ',\n",
       "       'e ', 'b ', 'c ', 'f ', 'c ', 'd ', 'a ', 'j ', 'b ', 'e ', 'a ',\n",
       "       'f ', 'e ', 'h ', 'f ', 'a ', 'd ', 'i ', 'b ', 'b ', 'd ', 'e ',\n",
       "       'i ', 'f ', 'e ', 'c ', 'g ', 'a ', 'h ', 'd ', 'a ', 'h ', 'e ',\n",
       "       'c ', 'g ', 'i ', 'd ', 'i ', 'f ', 'g ', 'j ', 'h ', 'e ', 'h ',\n",
       "       'j ', 'c ', 'b ', 'd ', 'g ', 'c ', 'a ', 'g ', 'i ', 'c ', 'a ',\n",
       "       'd ', 'i ', 'd ', 'j ', 'i ', 'd ', 'j ', 'g ', 'h ', 'h ', 'a ',\n",
       "       'f ', 'c ', 'i ', 'b ', 'g ', 'c ', 'e ', 'j ', 'b ', 'j ', 'a ',\n",
       "       'i ', 'b ', 'b ', 'a ', 'h ', 'g ', 'c ', 'a ', 'a ', 'j ', 'e ',\n",
       "       'h ', 'c ', 'd ', 'c ', 'a ', 'c ', 'e ', 'h ', 'b ', 'h ', 'h ',\n",
       "       'd ', 'b ', 'j ', 'd ', 'a ', 'g ', 'j ', 'b ', 'b ', 'j ', 'b ',\n",
       "       'c ', 'h ', 'g ', 'c ', 'h ', 'i ', 'h ', 'i ', 'g ', 'd ', 'j ',\n",
       "       'c ', 'g ', 'g ', 'a ', 'e ', 'j ', 'h ', 'j ', 'g ', 'b ', 'c ',\n",
       "       'f ', 'i ', 'c ', 'h ', 'c ', 'e ', 'g ', 'j ', 'a ', 'd ', 'a ',\n",
       "       'h ', 'e ', 'a ', 'g ', 'b ', 'h ', 'a ', 'b ', 'g ', 'f ', 'd ',\n",
       "       'f ', 'f ', 'b ', 'b ', 'i ', 'a ', 'i ', 'e ', 'f ', 'f ', 'f ',\n",
       "       'd ', 'g ', 'd ', 'a ', 'b ', 'h ', 'j ', 'a ', 'd ', 'a ', 'j ',\n",
       "       'c ', 'e ', 'j ', 'h ', 'd ', 'g ', 'd ', 'f ', 'f ', 'h ', 'j ',\n",
       "       'j ', 'b ', 'e ', 'i ', 'b ', 'j ', 'h ', 'j ', 'e ', 'h ', 'b ',\n",
       "       'b ', 'c ', 'j ', 'j ', 'a ', 'e ', 'a ', 'e ', 'h ', 'd ', 'b ',\n",
       "       'e ', 'e ', 'd ', 'f '], dtype=object)"
      ]
     },
     "execution_count": 25,
     "metadata": {},
     "output_type": "execute_result"
    }
   ],
   "source": [
    "print(brain.predict(X_test))\n",
    "\n",
    "brain2.predict(X_test)"
   ]
  },
  {
   "cell_type": "code",
   "execution_count": null,
   "metadata": {},
   "outputs": [],
   "source": []
  }
 ],
 "metadata": {
  "kernelspec": {
   "display_name": "Python 3 (ipykernel)",
   "language": "python",
   "name": "python3"
  },
  "language_info": {
   "codemirror_mode": {
    "name": "ipython",
    "version": 3
   },
   "file_extension": ".py",
   "mimetype": "text/x-python",
   "name": "python",
   "nbconvert_exporter": "python",
   "pygments_lexer": "ipython3",
   "version": "3.9.12"
  }
 },
 "nbformat": 4,
 "nbformat_minor": 4
}
